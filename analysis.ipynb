{
 "cells": [
  {
   "cell_type": "code",
   "execution_count": 372,
   "metadata": {},
   "outputs": [],
   "source": [
    "import pandas as pd\n",
    "import random\n",
    "import numpy as np\n",
    "import math\n",
    "import sys\n",
    "import matplotlib.pyplot as plt\n",
    "import seaborn as sns\n",
    "import graphviz\n",
    "import xgboost as xgb\n",
    "\n",
    "from scipy.stats import skew\n",
    "from scipy.special import expit as sigmoid\n",
    "from scipy.cluster.hierarchy import fclusterdata\n",
    "from pandas.plotting import autocorrelation_plot\n",
    "from sklearn.model_selection import train_test_split\n",
    "from sklearn.linear_model import LogisticRegression\n",
    "from sklearn.linear_model import LinearRegression\n",
    "from sklearn.ensemble import RandomForestClassifier\n",
    "from sklearn import tree\n",
    "from sklearn.metrics import precision_recall_fscore_support\n",
    "from sklearn import preprocessing\n",
    "from sklearn.metrics import confusion_matrix\n",
    "from sklearn.metrics import roc_auc_score\n",
    "from sklearn.utils import resample\n",
    "from imblearn.over_sampling import SMOTE, ADASYN\n",
    "from imblearn.under_sampling import ClusterCentroids\n",
    "from imblearn.under_sampling import RandomUnderSampler\n",
    "from sklearn.preprocessing import LabelEncoder\n",
    "from sklearn.metrics import pairwise_distances\n",
    "from sklearn.cluster import AgglomerativeClustering\n",
    "from sklearn.manifold import TSNE\n",
    "from sklearn.metrics import mean_absolute_error\n",
    "from sklearn.metrics import mean_squared_error"
   ]
  },
  {
   "cell_type": "code",
   "execution_count": 3,
   "metadata": {},
   "outputs": [],
   "source": [
    "train_set = pd.read_csv(\"data/train.csv\")\n",
    "test_set = pd.read_csv(\"data/test.csv\")"
   ]
  },
  {
   "cell_type": "code",
   "execution_count": 4,
   "metadata": {},
   "outputs": [],
   "source": [
    "test_set['SalePrice'] = -1.0\n",
    "global_set = pd.concat([train_set, test_set])"
   ]
  },
  {
   "cell_type": "markdown",
   "metadata": {},
   "source": [
    "# Task 1:\n",
    "Select a set of 10-15 of the most interesting variables.  Do a pairwise Pearson correlation analysis on all pairs of these variables. Show the result with heat map and find out most positive and negative correlations. "
   ]
  },
  {
   "cell_type": "code",
   "execution_count": 5,
   "metadata": {},
   "outputs": [
    {
     "data": {
      "text/html": [
       "<div>\n",
       "<style scoped>\n",
       "    .dataframe tbody tr th:only-of-type {\n",
       "        vertical-align: middle;\n",
       "    }\n",
       "\n",
       "    .dataframe tbody tr th {\n",
       "        vertical-align: top;\n",
       "    }\n",
       "\n",
       "    .dataframe thead th {\n",
       "        text-align: right;\n",
       "    }\n",
       "</style>\n",
       "<table border=\"1\" class=\"dataframe\">\n",
       "  <thead>\n",
       "    <tr style=\"text-align: right;\">\n",
       "      <th></th>\n",
       "      <th>SalePrice</th>\n",
       "      <th>LotFrontage</th>\n",
       "      <th>LotArea</th>\n",
       "      <th>PoolArea</th>\n",
       "      <th>YrSold</th>\n",
       "      <th>OverallQual</th>\n",
       "      <th>TotalBsmtSF</th>\n",
       "      <th>1stFlrSF</th>\n",
       "      <th>GrLivArea</th>\n",
       "      <th>GarageCars</th>\n",
       "      <th>GarageArea</th>\n",
       "      <th>YearBuilt</th>\n",
       "      <th>BedroomAbvGr</th>\n",
       "      <th>KitchenAbvGr</th>\n",
       "      <th>MasVnrArea</th>\n",
       "      <th>YearRemodAdd</th>\n",
       "    </tr>\n",
       "  </thead>\n",
       "  <tbody>\n",
       "    <tr>\n",
       "      <th>0</th>\n",
       "      <td>208500</td>\n",
       "      <td>65.0</td>\n",
       "      <td>8450</td>\n",
       "      <td>0</td>\n",
       "      <td>2008</td>\n",
       "      <td>7</td>\n",
       "      <td>856</td>\n",
       "      <td>856</td>\n",
       "      <td>1710</td>\n",
       "      <td>2</td>\n",
       "      <td>548</td>\n",
       "      <td>2003</td>\n",
       "      <td>3</td>\n",
       "      <td>1</td>\n",
       "      <td>196.0</td>\n",
       "      <td>2003</td>\n",
       "    </tr>\n",
       "    <tr>\n",
       "      <th>1</th>\n",
       "      <td>181500</td>\n",
       "      <td>80.0</td>\n",
       "      <td>9600</td>\n",
       "      <td>0</td>\n",
       "      <td>2007</td>\n",
       "      <td>6</td>\n",
       "      <td>1262</td>\n",
       "      <td>1262</td>\n",
       "      <td>1262</td>\n",
       "      <td>2</td>\n",
       "      <td>460</td>\n",
       "      <td>1976</td>\n",
       "      <td>3</td>\n",
       "      <td>1</td>\n",
       "      <td>0.0</td>\n",
       "      <td>1976</td>\n",
       "    </tr>\n",
       "    <tr>\n",
       "      <th>2</th>\n",
       "      <td>223500</td>\n",
       "      <td>68.0</td>\n",
       "      <td>11250</td>\n",
       "      <td>0</td>\n",
       "      <td>2008</td>\n",
       "      <td>7</td>\n",
       "      <td>920</td>\n",
       "      <td>920</td>\n",
       "      <td>1786</td>\n",
       "      <td>2</td>\n",
       "      <td>608</td>\n",
       "      <td>2001</td>\n",
       "      <td>3</td>\n",
       "      <td>1</td>\n",
       "      <td>162.0</td>\n",
       "      <td>2002</td>\n",
       "    </tr>\n",
       "    <tr>\n",
       "      <th>3</th>\n",
       "      <td>140000</td>\n",
       "      <td>60.0</td>\n",
       "      <td>9550</td>\n",
       "      <td>0</td>\n",
       "      <td>2006</td>\n",
       "      <td>7</td>\n",
       "      <td>756</td>\n",
       "      <td>961</td>\n",
       "      <td>1717</td>\n",
       "      <td>3</td>\n",
       "      <td>642</td>\n",
       "      <td>1915</td>\n",
       "      <td>3</td>\n",
       "      <td>1</td>\n",
       "      <td>0.0</td>\n",
       "      <td>1970</td>\n",
       "    </tr>\n",
       "    <tr>\n",
       "      <th>4</th>\n",
       "      <td>250000</td>\n",
       "      <td>84.0</td>\n",
       "      <td>14260</td>\n",
       "      <td>0</td>\n",
       "      <td>2008</td>\n",
       "      <td>8</td>\n",
       "      <td>1145</td>\n",
       "      <td>1145</td>\n",
       "      <td>2198</td>\n",
       "      <td>3</td>\n",
       "      <td>836</td>\n",
       "      <td>2000</td>\n",
       "      <td>4</td>\n",
       "      <td>1</td>\n",
       "      <td>350.0</td>\n",
       "      <td>2000</td>\n",
       "    </tr>\n",
       "  </tbody>\n",
       "</table>\n",
       "</div>"
      ],
      "text/plain": [
       "   SalePrice  LotFrontage  LotArea  PoolArea  YrSold  OverallQual  \\\n",
       "0     208500         65.0     8450         0    2008            7   \n",
       "1     181500         80.0     9600         0    2007            6   \n",
       "2     223500         68.0    11250         0    2008            7   \n",
       "3     140000         60.0     9550         0    2006            7   \n",
       "4     250000         84.0    14260         0    2008            8   \n",
       "\n",
       "   TotalBsmtSF  1stFlrSF  GrLivArea  GarageCars  GarageArea  YearBuilt  \\\n",
       "0          856       856       1710           2         548       2003   \n",
       "1         1262      1262       1262           2         460       1976   \n",
       "2          920       920       1786           2         608       2001   \n",
       "3          756       961       1717           3         642       1915   \n",
       "4         1145      1145       2198           3         836       2000   \n",
       "\n",
       "   BedroomAbvGr  KitchenAbvGr  MasVnrArea  YearRemodAdd  \n",
       "0             3             1       196.0          2003  \n",
       "1             3             1         0.0          1976  \n",
       "2             3             1       162.0          2002  \n",
       "3             3             1         0.0          1970  \n",
       "4             4             1       350.0          2000  "
      ]
     },
     "execution_count": 5,
     "metadata": {},
     "output_type": "execute_result"
    }
   ],
   "source": [
    "# suspects = [\"SalePrice\", \"RH\", \"RL\", \"RP\", \"RM\", \"LotFrontage\", \"LotArea\"]\n",
    "suspects = [\"SalePrice\", \"LotFrontage\", \"LotArea\", \"PoolArea\", \"YrSold\", \"OverallQual\", \"TotalBsmtSF\", \"1stFlrSF\", \"GrLivArea\", \"GarageCars\",\n",
    "            \"GarageArea\", \"YearBuilt\", \"BedroomAbvGr\", \"KitchenAbvGr\", \"MasVnrArea\", \"YearRemodAdd\"]\n",
    "train_set[suspects].head()"
   ]
  },
  {
   "cell_type": "code",
   "execution_count": 6,
   "metadata": {},
   "outputs": [
    {
     "data": {
      "text/plain": [
       "<matplotlib.axes._subplots.AxesSubplot at 0x2998d4fa908>"
      ]
     },
     "execution_count": 6,
     "metadata": {},
     "output_type": "execute_result"
    },
    {
     "data": {
      "image/png": "[encoded data removed]",
      "text/plain": [
       "<Figure size 432x288 with 2 Axes>"
      ]
     },
     "metadata": {
      "needs_background": "light"
     },
     "output_type": "display_data"
    }
   ],
   "source": [
    "sns.heatmap(train_set[suspects].corr(), cmap=\"Greens\")"
   ]
  },
  {
   "cell_type": "code",
   "execution_count": 7,
   "metadata": {},
   "outputs": [
    {
     "data": {
      "text/html": [
       "<div>\n",
       "<style scoped>\n",
       "    .dataframe tbody tr th:only-of-type {\n",
       "        vertical-align: middle;\n",
       "    }\n",
       "\n",
       "    .dataframe tbody tr th {\n",
       "        vertical-align: top;\n",
       "    }\n",
       "\n",
       "    .dataframe thead th {\n",
       "        text-align: right;\n",
       "    }\n",
       "</style>\n",
       "<table border=\"1\" class=\"dataframe\">\n",
       "  <thead>\n",
       "    <tr style=\"text-align: right;\">\n",
       "      <th></th>\n",
       "      <th>SalePrice</th>\n",
       "      <th>LotFrontage</th>\n",
       "      <th>LotArea</th>\n",
       "      <th>PoolArea</th>\n",
       "      <th>YrSold</th>\n",
       "      <th>OverallQual</th>\n",
       "      <th>TotalBsmtSF</th>\n",
       "      <th>1stFlrSF</th>\n",
       "      <th>GrLivArea</th>\n",
       "      <th>GarageCars</th>\n",
       "      <th>GarageArea</th>\n",
       "      <th>YearBuilt</th>\n",
       "      <th>BedroomAbvGr</th>\n",
       "      <th>KitchenAbvGr</th>\n",
       "      <th>MasVnrArea</th>\n",
       "      <th>YearRemodAdd</th>\n",
       "    </tr>\n",
       "  </thead>\n",
       "  <tbody>\n",
       "    <tr>\n",
       "      <th>SalePrice</th>\n",
       "      <td>1.000000</td>\n",
       "      <td>0.351799</td>\n",
       "      <td>0.263843</td>\n",
       "      <td>0.092404</td>\n",
       "      <td>-0.028923</td>\n",
       "      <td>0.790982</td>\n",
       "      <td>0.613581</td>\n",
       "      <td>0.605852</td>\n",
       "      <td>0.708624</td>\n",
       "      <td>0.640409</td>\n",
       "      <td>0.623431</td>\n",
       "      <td>0.522897</td>\n",
       "      <td>0.168213</td>\n",
       "      <td>-0.135907</td>\n",
       "      <td>0.477493</td>\n",
       "      <td>0.507101</td>\n",
       "    </tr>\n",
       "    <tr>\n",
       "      <th>LotFrontage</th>\n",
       "      <td>0.351799</td>\n",
       "      <td>1.000000</td>\n",
       "      <td>0.426095</td>\n",
       "      <td>0.206167</td>\n",
       "      <td>0.007450</td>\n",
       "      <td>0.251646</td>\n",
       "      <td>0.392075</td>\n",
       "      <td>0.457181</td>\n",
       "      <td>0.402797</td>\n",
       "      <td>0.285691</td>\n",
       "      <td>0.344997</td>\n",
       "      <td>0.123349</td>\n",
       "      <td>0.263170</td>\n",
       "      <td>-0.006069</td>\n",
       "      <td>0.193458</td>\n",
       "      <td>0.088866</td>\n",
       "    </tr>\n",
       "    <tr>\n",
       "      <th>LotArea</th>\n",
       "      <td>0.263843</td>\n",
       "      <td>0.426095</td>\n",
       "      <td>1.000000</td>\n",
       "      <td>0.077672</td>\n",
       "      <td>-0.014261</td>\n",
       "      <td>0.105806</td>\n",
       "      <td>0.260833</td>\n",
       "      <td>0.299475</td>\n",
       "      <td>0.263116</td>\n",
       "      <td>0.154871</td>\n",
       "      <td>0.180403</td>\n",
       "      <td>0.014228</td>\n",
       "      <td>0.119690</td>\n",
       "      <td>-0.017784</td>\n",
       "      <td>0.104160</td>\n",
       "      <td>0.013788</td>\n",
       "    </tr>\n",
       "    <tr>\n",
       "      <th>PoolArea</th>\n",
       "      <td>0.092404</td>\n",
       "      <td>0.206167</td>\n",
       "      <td>0.077672</td>\n",
       "      <td>1.000000</td>\n",
       "      <td>-0.059689</td>\n",
       "      <td>0.065166</td>\n",
       "      <td>0.126053</td>\n",
       "      <td>0.131525</td>\n",
       "      <td>0.170205</td>\n",
       "      <td>0.020934</td>\n",
       "      <td>0.061047</td>\n",
       "      <td>0.004950</td>\n",
       "      <td>0.070703</td>\n",
       "      <td>-0.014525</td>\n",
       "      <td>0.011723</td>\n",
       "      <td>0.005829</td>\n",
       "    </tr>\n",
       "    <tr>\n",
       "      <th>YrSold</th>\n",
       "      <td>-0.028923</td>\n",
       "      <td>0.007450</td>\n",
       "      <td>-0.014261</td>\n",
       "      <td>-0.059689</td>\n",
       "      <td>1.000000</td>\n",
       "      <td>-0.027347</td>\n",
       "      <td>-0.014969</td>\n",
       "      <td>-0.013604</td>\n",
       "      <td>-0.036526</td>\n",
       "      <td>-0.039117</td>\n",
       "      <td>-0.027378</td>\n",
       "      <td>-0.013618</td>\n",
       "      <td>-0.036014</td>\n",
       "      <td>0.031687</td>\n",
       "      <td>-0.008201</td>\n",
       "      <td>0.035743</td>\n",
       "    </tr>\n",
       "    <tr>\n",
       "      <th>OverallQual</th>\n",
       "      <td>0.790982</td>\n",
       "      <td>0.251646</td>\n",
       "      <td>0.105806</td>\n",
       "      <td>0.065166</td>\n",
       "      <td>-0.027347</td>\n",
       "      <td>1.000000</td>\n",
       "      <td>0.537808</td>\n",
       "      <td>0.476224</td>\n",
       "      <td>0.593007</td>\n",
       "      <td>0.600671</td>\n",
       "      <td>0.562022</td>\n",
       "      <td>0.572323</td>\n",
       "      <td>0.101676</td>\n",
       "      <td>-0.183882</td>\n",
       "      <td>0.411876</td>\n",
       "      <td>0.550684</td>\n",
       "    </tr>\n",
       "    <tr>\n",
       "      <th>TotalBsmtSF</th>\n",
       "      <td>0.613581</td>\n",
       "      <td>0.392075</td>\n",
       "      <td>0.260833</td>\n",
       "      <td>0.126053</td>\n",
       "      <td>-0.014969</td>\n",
       "      <td>0.537808</td>\n",
       "      <td>1.000000</td>\n",
       "      <td>0.819530</td>\n",
       "      <td>0.454868</td>\n",
       "      <td>0.434585</td>\n",
       "      <td>0.486665</td>\n",
       "      <td>0.391452</td>\n",
       "      <td>0.050450</td>\n",
       "      <td>-0.068901</td>\n",
       "      <td>0.363936</td>\n",
       "      <td>0.291066</td>\n",
       "    </tr>\n",
       "    <tr>\n",
       "      <th>1stFlrSF</th>\n",
       "      <td>0.605852</td>\n",
       "      <td>0.457181</td>\n",
       "      <td>0.299475</td>\n",
       "      <td>0.131525</td>\n",
       "      <td>-0.013604</td>\n",
       "      <td>0.476224</td>\n",
       "      <td>0.819530</td>\n",
       "      <td>1.000000</td>\n",
       "      <td>0.566024</td>\n",
       "      <td>0.439317</td>\n",
       "      <td>0.489782</td>\n",
       "      <td>0.281986</td>\n",
       "      <td>0.127401</td>\n",
       "      <td>0.068101</td>\n",
       "      <td>0.344501</td>\n",
       "      <td>0.240379</td>\n",
       "    </tr>\n",
       "    <tr>\n",
       "      <th>GrLivArea</th>\n",
       "      <td>0.708624</td>\n",
       "      <td>0.402797</td>\n",
       "      <td>0.263116</td>\n",
       "      <td>0.170205</td>\n",
       "      <td>-0.036526</td>\n",
       "      <td>0.593007</td>\n",
       "      <td>0.454868</td>\n",
       "      <td>0.566024</td>\n",
       "      <td>1.000000</td>\n",
       "      <td>0.467247</td>\n",
       "      <td>0.468997</td>\n",
       "      <td>0.199010</td>\n",
       "      <td>0.521270</td>\n",
       "      <td>0.100063</td>\n",
       "      <td>0.390857</td>\n",
       "      <td>0.287389</td>\n",
       "    </tr>\n",
       "    <tr>\n",
       "      <th>GarageCars</th>\n",
       "      <td>0.640409</td>\n",
       "      <td>0.285691</td>\n",
       "      <td>0.154871</td>\n",
       "      <td>0.020934</td>\n",
       "      <td>-0.039117</td>\n",
       "      <td>0.600671</td>\n",
       "      <td>0.434585</td>\n",
       "      <td>0.439317</td>\n",
       "      <td>0.467247</td>\n",
       "      <td>1.000000</td>\n",
       "      <td>0.882475</td>\n",
       "      <td>0.537850</td>\n",
       "      <td>0.086106</td>\n",
       "      <td>-0.050634</td>\n",
       "      <td>0.364204</td>\n",
       "      <td>0.420622</td>\n",
       "    </tr>\n",
       "    <tr>\n",
       "      <th>GarageArea</th>\n",
       "      <td>0.623431</td>\n",
       "      <td>0.344997</td>\n",
       "      <td>0.180403</td>\n",
       "      <td>0.061047</td>\n",
       "      <td>-0.027378</td>\n",
       "      <td>0.562022</td>\n",
       "      <td>0.486665</td>\n",
       "      <td>0.489782</td>\n",
       "      <td>0.468997</td>\n",
       "      <td>0.882475</td>\n",
       "      <td>1.000000</td>\n",
       "      <td>0.478954</td>\n",
       "      <td>0.065253</td>\n",
       "      <td>-0.064433</td>\n",
       "      <td>0.373066</td>\n",
       "      <td>0.371600</td>\n",
       "    </tr>\n",
       "    <tr>\n",
       "      <th>YearBuilt</th>\n",
       "      <td>0.522897</td>\n",
       "      <td>0.123349</td>\n",
       "      <td>0.014228</td>\n",
       "      <td>0.004950</td>\n",
       "      <td>-0.013618</td>\n",
       "      <td>0.572323</td>\n",
       "      <td>0.391452</td>\n",
       "      <td>0.281986</td>\n",
       "      <td>0.199010</td>\n",
       "      <td>0.537850</td>\n",
       "      <td>0.478954</td>\n",
       "      <td>1.000000</td>\n",
       "      <td>-0.070651</td>\n",
       "      <td>-0.174800</td>\n",
       "      <td>0.315707</td>\n",
       "      <td>0.592855</td>\n",
       "    </tr>\n",
       "    <tr>\n",
       "      <th>BedroomAbvGr</th>\n",
       "      <td>0.168213</td>\n",
       "      <td>0.263170</td>\n",
       "      <td>0.119690</td>\n",
       "      <td>0.070703</td>\n",
       "      <td>-0.036014</td>\n",
       "      <td>0.101676</td>\n",
       "      <td>0.050450</td>\n",
       "      <td>0.127401</td>\n",
       "      <td>0.521270</td>\n",
       "      <td>0.086106</td>\n",
       "      <td>0.065253</td>\n",
       "      <td>-0.070651</td>\n",
       "      <td>1.000000</td>\n",
       "      <td>0.198597</td>\n",
       "      <td>0.102821</td>\n",
       "      <td>-0.040581</td>\n",
       "    </tr>\n",
       "    <tr>\n",
       "      <th>KitchenAbvGr</th>\n",
       "      <td>-0.135907</td>\n",
       "      <td>-0.006069</td>\n",
       "      <td>-0.017784</td>\n",
       "      <td>-0.014525</td>\n",
       "      <td>0.031687</td>\n",
       "      <td>-0.183882</td>\n",
       "      <td>-0.068901</td>\n",
       "      <td>0.068101</td>\n",
       "      <td>0.100063</td>\n",
       "      <td>-0.050634</td>\n",
       "      <td>-0.064433</td>\n",
       "      <td>-0.174800</td>\n",
       "      <td>0.198597</td>\n",
       "      <td>1.000000</td>\n",
       "      <td>-0.037610</td>\n",
       "      <td>-0.149598</td>\n",
       "    </tr>\n",
       "    <tr>\n",
       "      <th>MasVnrArea</th>\n",
       "      <td>0.477493</td>\n",
       "      <td>0.193458</td>\n",
       "      <td>0.104160</td>\n",
       "      <td>0.011723</td>\n",
       "      <td>-0.008201</td>\n",
       "      <td>0.411876</td>\n",
       "      <td>0.363936</td>\n",
       "      <td>0.344501</td>\n",
       "      <td>0.390857</td>\n",
       "      <td>0.364204</td>\n",
       "      <td>0.373066</td>\n",
       "      <td>0.315707</td>\n",
       "      <td>0.102821</td>\n",
       "      <td>-0.037610</td>\n",
       "      <td>1.000000</td>\n",
       "      <td>0.179618</td>\n",
       "    </tr>\n",
       "    <tr>\n",
       "      <th>YearRemodAdd</th>\n",
       "      <td>0.507101</td>\n",
       "      <td>0.088866</td>\n",
       "      <td>0.013788</td>\n",
       "      <td>0.005829</td>\n",
       "      <td>0.035743</td>\n",
       "      <td>0.550684</td>\n",
       "      <td>0.291066</td>\n",
       "      <td>0.240379</td>\n",
       "      <td>0.287389</td>\n",
       "      <td>0.420622</td>\n",
       "      <td>0.371600</td>\n",
       "      <td>0.592855</td>\n",
       "      <td>-0.040581</td>\n",
       "      <td>-0.149598</td>\n",
       "      <td>0.179618</td>\n",
       "      <td>1.000000</td>\n",
       "    </tr>\n",
       "  </tbody>\n",
       "</table>\n",
       "</div>"
      ],
      "text/plain": [
       "              SalePrice  LotFrontage   LotArea  PoolArea    YrSold  \\\n",
       "SalePrice      1.000000     0.351799  0.263843  0.092404 -0.028923   \n",
       "LotFrontage    0.351799     1.000000  0.426095  0.206167  0.007450   \n",
       "LotArea        0.263843     0.426095  1.000000  0.077672 -0.014261   \n",
       "PoolArea       0.092404     0.206167  0.077672  1.000000 -0.059689   \n",
       "YrSold        -0.028923     0.007450 -0.014261 -0.059689  1.000000   \n",
       "OverallQual    0.790982     0.251646  0.105806  0.065166 -0.027347   \n",
       "TotalBsmtSF    0.613581     0.392075  0.260833  0.126053 -0.014969   \n",
       "1stFlrSF       0.605852     0.457181  0.299475  0.131525 -0.013604   \n",
       "GrLivArea      0.708624     0.402797  0.263116  0.170205 -0.036526   \n",
       "GarageCars     0.640409     0.285691  0.154871  0.020934 -0.039117   \n",
       "GarageArea     0.623431     0.344997  0.180403  0.061047 -0.027378   \n",
       "YearBuilt      0.522897     0.123349  0.014228  0.004950 -0.013618   \n",
       "BedroomAbvGr   0.168213     0.263170  0.119690  0.070703 -0.036014   \n",
       "KitchenAbvGr  -0.135907    -0.006069 -0.017784 -0.014525  0.031687   \n",
       "MasVnrArea     0.477493     0.193458  0.104160  0.011723 -0.008201   \n",
       "YearRemodAdd   0.507101     0.088866  0.013788  0.005829  0.035743   \n",
       "\n",
       "              OverallQual  TotalBsmtSF  1stFlrSF  GrLivArea  GarageCars  \\\n",
       "SalePrice        0.790982     0.613581  0.605852   0.708624    0.640409   \n",
       "LotFrontage      0.251646     0.392075  0.457181   0.402797    0.285691   \n",
       "LotArea          0.105806     0.260833  0.299475   0.263116    0.154871   \n",
       "PoolArea         0.065166     0.126053  0.131525   0.170205    0.020934   \n",
       "YrSold          -0.027347    -0.014969 -0.013604  -0.036526   -0.039117   \n",
       "OverallQual      1.000000     0.537808  0.476224   0.593007    0.600671   \n",
       "TotalBsmtSF      0.537808     1.000000  0.819530   0.454868    0.434585   \n",
       "1stFlrSF         0.476224     0.819530  1.000000   0.566024    0.439317   \n",
       "GrLivArea        0.593007     0.454868  0.566024   1.000000    0.467247   \n",
       "GarageCars       0.600671     0.434585  0.439317   0.467247    1.000000   \n",
       "GarageArea       0.562022     0.486665  0.489782   0.468997    0.882475   \n",
       "YearBuilt        0.572323     0.391452  0.281986   0.199010    0.537850   \n",
       "BedroomAbvGr     0.101676     0.050450  0.127401   0.521270    0.086106   \n",
       "KitchenAbvGr    -0.183882    -0.068901  0.068101   0.100063   -0.050634   \n",
       "MasVnrArea       0.411876     0.363936  0.344501   0.390857    0.364204   \n",
       "YearRemodAdd     0.550684     0.291066  0.240379   0.287389    0.420622   \n",
       "\n",
       "              GarageArea  YearBuilt  BedroomAbvGr  KitchenAbvGr  MasVnrArea  \\\n",
       "SalePrice       0.623431   0.522897      0.168213     -0.135907    0.477493   \n",
       "LotFrontage     0.344997   0.123349      0.263170     -0.006069    0.193458   \n",
       "LotArea         0.180403   0.014228      0.119690     -0.017784    0.104160   \n",
       "PoolArea        0.061047   0.004950      0.070703     -0.014525    0.011723   \n",
       "YrSold         -0.027378  -0.013618     -0.036014      0.031687   -0.008201   \n",
       "OverallQual     0.562022   0.572323      0.101676     -0.183882    0.411876   \n",
       "TotalBsmtSF     0.486665   0.391452      0.050450     -0.068901    0.363936   \n",
       "1stFlrSF        0.489782   0.281986      0.127401      0.068101    0.344501   \n",
       "GrLivArea       0.468997   0.199010      0.521270      0.100063    0.390857   \n",
       "GarageCars      0.882475   0.537850      0.086106     -0.050634    0.364204   \n",
       "GarageArea      1.000000   0.478954      0.065253     -0.064433    0.373066   \n",
       "YearBuilt       0.478954   1.000000     -0.070651     -0.174800    0.315707   \n",
       "BedroomAbvGr    0.065253  -0.070651      1.000000      0.198597    0.102821   \n",
       "KitchenAbvGr   -0.064433  -0.174800      0.198597      1.000000   -0.037610   \n",
       "MasVnrArea      0.373066   0.315707      0.102821     -0.037610    1.000000   \n",
       "YearRemodAdd    0.371600   0.592855     -0.040581     -0.149598    0.179618   \n",
       "\n",
       "              YearRemodAdd  \n",
       "SalePrice         0.507101  \n",
       "LotFrontage       0.088866  \n",
       "LotArea           0.013788  \n",
       "PoolArea          0.005829  \n",
       "YrSold            0.035743  \n",
       "OverallQual       0.550684  \n",
       "TotalBsmtSF       0.291066  \n",
       "1stFlrSF          0.240379  \n",
       "GrLivArea         0.287389  \n",
       "GarageCars        0.420622  \n",
       "GarageArea        0.371600  \n",
       "YearBuilt         0.592855  \n",
       "BedroomAbvGr     -0.040581  \n",
       "KitchenAbvGr     -0.149598  \n",
       "MasVnrArea        0.179618  \n",
       "YearRemodAdd      1.000000  "
      ]
     },
     "execution_count": 7,
     "metadata": {},
     "output_type": "execute_result"
    }
   ],
   "source": [
    "train_set[suspects].corr()"
   ]
  },
  {
   "cell_type": "markdown",
   "metadata": {},
   "source": [
    "## Conclusion (11 features):\n",
    "1.  Correlated features with SalePrice from highest to lowest order SalesPrivce vs All... </br>\n",
    "    a. Overall quality of material (OverallQual, 0.79) </br>\n",
    "    b. Above grade living area in square feet (GrLivArea, 0.70) </br>\n",
    "    c. Size of garage in car capacity (GarageCars, 0.64) </br>\n",
    "    d. Size of garage in square feet (GarageArea, 0.62) </br>\n",
    "    e. Total basement area in square feet (TotalBsmtSF, 0.61)</br>\n",
    "    f. First Floor area in square feet (1stFlrSF, 0.60) </br>\n",
    "2. Overall quality of the house is highly correlated to the year it was built, the newer the house higher its quality (0.57)\n",
    "3. Overall quality of the house is highly correlated to the year it was remodeled, most recent modeled house has higher quality (0.55)\n",
    "4. Overall quality of the house is highly correlated to the garage cars capacity, the more cars a house can manage higher its quality (0.60)\n",
    "5. Lot frontage (linear feet of street connected to house) is correlated with Lot Area (lot area in sq. feet around the house) (0.42)"
   ]
  },
  {
   "cell_type": "markdown",
   "metadata": {},
   "source": [
    "# Task 2\n",
    "Produce five other informative plots revealing aspects of this data. For each plot, write a paragraph in your notebook describing what interesting properties your visualization reveals. These must include: </br>\n",
    "1. at least one line chart </br>\n",
    "2. at least one scatter plot or data map </br>\n",
    "3. at least one histogram or bar chart </br>\n"
   ]
  },
  {
   "cell_type": "code",
   "execution_count": 8,
   "metadata": {},
   "outputs": [
    {
     "data": {
      "image/png": "[encoded data removed]",
      "text/plain": [
       "<Figure size 864x360 with 2 Axes>"
      ]
     },
     "metadata": {
      "needs_background": "light"
     },
     "output_type": "display_data"
    }
   ],
   "source": [
    "figures, axes = plt.subplots(1, 2, figsize=(12,5))\n",
    "\n",
    "# TotRmsAbvGrd\n",
    "totalRoomsYearAgg = train_set.groupby([\"YearBuilt\"])[\"TotRmsAbvGrd\"].agg([\"mean\"]).reset_index()\n",
    "totalRoomsYearAgg = totalRoomsYearAgg.rename(columns={\"mean\": \"Mean_No_Rooms\"})\n",
    "sns.lineplot(x=\"YearBuilt\", y=\"Mean_No_Rooms\", data=totalRoomsYearAgg, markers=True, ax=axes[0])\n",
    "axes[0].set_title(\"Rooms vs. Year House Built\")\n",
    "# GarageCars\n",
    "\n",
    "garageCarsYearAgg = train_set.groupby([\"YearBuilt\"])[\"GarageCars\"].agg([\"mean\"]).reset_index()\n",
    "garageCarsYearAgg = garageCarsYearAgg.rename(columns={\"mean\": \"Mean_Garage_Cars\"})\n",
    "sns.lineplot(x=\"YearBuilt\", y=\"Mean_Garage_Cars\", data=garageCarsYearAgg, markers=True, ax=axes[1])\n",
    "axes[1].set_title(\"Garage Cars Capacity vs. Year House Built\")\n",
    "\n",
    "plt.tight_layout()"
   ]
  },
  {
   "cell_type": "markdown",
   "metadata": {},
   "source": [
    "### Conclusion (Task 2):\n",
    "Changes in Mean number of rooms as the houses are built through a period of time\n",
    "1. Steady increase from 6 room to 11 rooms from 1880 to 1900\n",
    "2. Significant drop in mean no. of rooms from 1900s till 1940s (possible due to world war atmosphere people were hesitating to build full-fledge houses to avoid rebuilding)\n",
    "3. A gradual increase in mean no. of rooms from 1950s to late 2000s (possible due to rise in nuclear family trends as time proceeded, due to reduction in few people per house)"
   ]
  },
  {
   "cell_type": "code",
   "execution_count": 9,
   "metadata": {},
   "outputs": [
    {
     "data": {
      "image/png": "[encoded data removed]",
      "text/plain": [
       "<Figure size 864x288 with 4 Axes>"
      ]
     },
     "metadata": {
      "needs_background": "light"
     },
     "output_type": "display_data"
    }
   ],
   "source": [
    "figures, axes = plt.subplots(1, 4, figsize=(12,4))\n",
    "residency_types = ['FV', 'RH','RL','RM']\n",
    "labels = [\"Floating Village\", \"Residential High Density\", \"Residential Low Density\", \"Residential Medium Density\"]\n",
    "for index, residency_type in enumerate(residency_types):\n",
    "    residency = train_set[train_set.MSZoning == residency_type]\n",
    "    sns.regplot(x='LotArea', y='SalePrice', data=residency, ax=axes[index])\n",
    "    axes[index].set_title(labels[index])\n",
    "\n",
    "plt.tight_layout()"
   ]
  },
  {
   "cell_type": "markdown",
   "metadata": {},
   "source": [
    "### Conclusion (Task 2):\n",
    "1. In Floating Village, Low Density, Medium Density Residential zones a strong correlation in SalePrice at Lot-Area is observed\n",
    "2. In Highly Dense Residential, there's no correlation between SalePrice vs LotArea (may be there are other factors that influence SalePrice in High Residential Zones other than Lot-Area)"
   ]
  },
  {
   "cell_type": "code",
   "execution_count": 10,
   "metadata": {},
   "outputs": [
    {
     "data": {
      "image/png": "[encoded data removed]",
      "text/plain": [
       "<Figure size 864x288 with 4 Axes>"
      ]
     },
     "metadata": {
      "needs_background": "light"
     },
     "output_type": "display_data"
    }
   ],
   "source": [
    "figures, axes = plt.subplots(1, 4, figsize=(12,4))\n",
    "residency_types = ['FV', 'RH', 'RL', 'RM']\n",
    "labels = [\"Floating Village\", \"Residential High Density\", \"Residential Low Density\", \"Residential Medium Density\"]\n",
    "colors = ['red', 'darkgreen', 'blue', 'coral']\n",
    "for index, residency_type in enumerate(residency_types):\n",
    "    residency_data = train_set[train_set.MSZoning == residency_type]\n",
    "    sns.distplot(residency_data.BedroomAbvGr, ax=axes[index], color=colors[index])\n",
    "    axes[index].set_title(labels[index])\n",
    "plt.tight_layout()"
   ]
  },
  {
   "cell_type": "markdown",
   "metadata": {},
   "source": [
    "### Conclusion (Task 2):\n",
    "1. Average number of bedrooms range in 1 to 5 in Residential High Density\n",
    "2. Maximum residents in Residential Low Density live within houses of 3 bedrooms\n"
   ]
  },
  {
   "cell_type": "code",
   "execution_count": 11,
   "metadata": {},
   "outputs": [
    {
     "name": "stderr",
     "output_type": "stream",
     "text": [
      "C:\\Users\\Paras\\Anaconda3\\lib\\site-packages\\statsmodels\\nonparametric\\kde.py:487: RuntimeWarning: invalid value encountered in true_divide\n",
      "  binned = fast_linbin(X, a, b, gridsize) / (delta * nobs)\n",
      "C:\\Users\\Paras\\Anaconda3\\lib\\site-packages\\statsmodels\\nonparametric\\kdetools.py:34: RuntimeWarning: invalid value encountered in double_scalars\n",
      "  FAC1 = 2*(np.pi*bw/RANGE)**2\n"
     ]
    },
    {
     "data": {
      "image/png": "[encoded data removed]",
      "text/plain": [
       "<Figure size 864x288 with 4 Axes>"
      ]
     },
     "metadata": {
      "needs_background": "light"
     },
     "output_type": "display_data"
    }
   ],
   "source": [
    "figures, axes = plt.subplots(1, 4, figsize=(12,4))\n",
    "residency_types = ['FV', 'RH', 'RL', 'RM']\n",
    "labels = [\"Floating Village\", \"Residential High Density\", \"Residential Low Density\", \"Residential Medium Density\"]\n",
    "colors = ['red', 'darkgreen', 'blue', 'coral']\n",
    "for index, residency_type in enumerate(residency_types):\n",
    "    residency_data = train_set[train_set.MSZoning == residency_type]\n",
    "    sns.distplot(residency_data['KitchenAbvGr'], ax=axes[index], color=colors[index])\n",
    "    axes[index].set_title(labels[index])\n",
    "plt.tight_layout()"
   ]
  },
  {
   "cell_type": "code",
   "execution_count": null,
   "metadata": {},
   "outputs": [],
   "source": []
  },
  {
   "cell_type": "markdown",
   "metadata": {},
   "source": [
    "## Task 3"
   ]
  },
  {
   "cell_type": "code",
   "execution_count": 12,
   "metadata": {},
   "outputs": [],
   "source": [
    "# train_set[[\"OverallQual\",\"GrLivArea\",\"GarageCars\",\"GarageArea\",\"TotalBsmtSF\",\"1stFlrSF\"]].isnull().sum()"
   ]
  },
  {
   "cell_type": "code",
   "execution_count": 13,
   "metadata": {},
   "outputs": [],
   "source": [
    "# global_set[[\"OverallQual\",\"GrLivArea\",\"GarageCars\",\"GarageArea\",\"TotalBsmtSF\",\"1stFlrSF\", \"YearBuilt\", \"YearRemodAdd\", \"PoolArea\"]].describe()"
   ]
  },
  {
   "cell_type": "code",
   "execution_count": 14,
   "metadata": {},
   "outputs": [],
   "source": [
    "def max_min_scaler(min_val, max_val, val):\n",
    "    return (val - min_val)/(max_val - min_val)"
   ]
  },
  {
   "cell_type": "markdown",
   "metadata": {},
   "source": [
    "## Desirability Score:\n",
    "1. Took significantly correlated features and applied min-max scaling on them to compute their score\n",
    "2. Took other features which dictated high Sale Prices in their pivot group: type of house/type of street/type of exterior condition/year built/pool area\n",
    "3. Applied on min-max scaling to compute score on each feature\n",
    "4. Normalised all scores and computed a rating on a scale from 1 to 10 to express desirability\n",
    "5. The basic intuition behind desirability scores, is that the most desirable houses would be expensive because of the high economical demand"
   ]
  },
  {
   "cell_type": "code",
   "execution_count": 15,
   "metadata": {},
   "outputs": [],
   "source": [
    "max_int = sys.maxsize - 1 # Maximum possible integer value in python\n",
    "min_int = (-max_int - 1) + 2 # Minimum possible integer value in python\n",
    "def desirability_score(row):\n",
    "    score = 0.0\n",
    "    correlated_cols_weights = {\"OverallQual\": 0.79, \"GrLivArea\": 0.70, \"GarageCars\": 0.64 , \"GarageArea\": 0.62, \"TotalBsmtSF\": 0.61, \"1stFlrSF\": 0.60}\n",
    "    correlated_cols_mins = {\"OverallQual\": 1.0, \"GrLivArea\": 334.0, \"GarageCars\": 0.0, \"GarageArea\": 0.0, \"TotalBsmtSF\": 0.0, \"1stFlrSF\": 334.0}\n",
    "    correlated_cols_max = {\"OverallQual\": 10.0, \"GrLivArea\": 5642.0, \"GarageCars\": 5.0, \"GarageArea\": 1488.0, \"TotalBsmtSF\": 6110.0, \"1stFlrSF\": 5095.0}\n",
    "    for c in correlated_cols_weights:\n",
    "        score += max_min_scaler(correlated_cols_mins[c], correlated_cols_max[c], row[c])\n",
    "    \n",
    "#     print(str(score))\n",
    "    \n",
    "    # Higher weight if a 2 Story or newer dwelling then assign higher score\n",
    "    if row[\"MSSubClass\"] in [20, 60, 0, 75, 160]:\n",
    "        score += 1.0\n",
    "    else:\n",
    "        score += 0.0\n",
    "    \n",
    "    # Higher weight if the street closed to house is Paved or made from Gravel\n",
    "    if row[\"Street\"] == \"Pave\":\n",
    "        score += 1.0\n",
    "    else:\n",
    "        score += 0.0\n",
    "        \n",
    "    # Higher weight if the exterior material quality is Excellent\n",
    "    if row[\"ExterCond\"] == \"Ex\":\n",
    "        score += 1.0\n",
    "    else:\n",
    "        score += 0.0\n",
    "                \n",
    "    neighborhood = ['MeadowV', 'IDOTRR', 'BrDale', 'BrkSide', 'Edwards', 'OldTown', 'Sawyer', 'Blueste', 'SWISU', 'NPkVill', 'NAmes', 'Mitchel', 'SawyerW', 'NWAmes', 'Gilbert', 'Blmngtn', 'CollgCr', 'Crawfor', 'ClearCr', 'Somerst', 'Veenker', 'Timber', 'StoneBr', 'NridgHt', 'NoRidge']\n",
    "    \n",
    "    \n",
    "    score += neighborhood.index(row[\"Neighborhood\"])/10.0\n",
    "\n",
    "    year_built_min, year_built_max = 1872.0, 2010.0\n",
    "    year_remod_min, year_remod_max = 1950.0, 2010.0\n",
    "    pool_area_min, pool_area_max = 0.0, 800.0\n",
    "    \n",
    "    score += max_min_scaler(year_built_min, year_built_max, row[\"YearBuilt\"])\n",
    "    score += max_min_scaler(year_remod_min, year_remod_max, row[\"YearRemodAdd\"])\n",
    "    score += max_min_scaler(pool_area_min, pool_area_max, row[\"PoolArea\"])\n",
    "    \n",
    "#   In total we added 6 pearson-corrleation based numerical scores, type of dwelling score, type of street score, material quality of score, type of neighborhood score,\n",
    "#   , year-built, year-remodeled, pool area based score\n",
    "#   In total: 6 + 1 + 1 + 1 + 1 + 1 + 1 + 1 -> 13\n",
    "#    So, in conclusion we added 13 times sigmoid scaled values\n",
    "    score /= 13.0\n",
    "    \n",
    "    # Now score will be in a range from 0.0 to 1.0,\n",
    "    # Return a desirability score in a range from 1 to 10.0\n",
    "        \n",
    "    return score * 10.0\n",
    "        \n",
    "    "
   ]
  },
  {
   "cell_type": "code",
   "execution_count": 16,
   "metadata": {},
   "outputs": [],
   "source": [
    "train_set[\"desirability\"] = train_set.apply(desirability_score, axis=1)"
   ]
  },
  {
   "cell_type": "code",
   "execution_count": 17,
   "metadata": {},
   "outputs": [],
   "source": [
    "sorted_train_df = train_set.sort_values(by=[\"desirability\"], ascending=False)\n",
    "most_desirable = sorted_train_df[:10]\n",
    "least_desirable = sorted_train_df[-10:].sort_values(by=[\"desirability\"])"
   ]
  },
  {
   "cell_type": "code",
   "execution_count": 18,
   "metadata": {},
   "outputs": [],
   "source": [
    "house_identifiers = [\"Id\", \"MSSubClass\", \"MSZoning\", \"LotArea\", \"Neighborhood\", \"BldgType\", \"YearBuilt\", \"GarageCars\", \"PoolArea\", \"OverallQual\", \"OverallCond\", \"desirability\"]"
   ]
  },
  {
   "cell_type": "code",
   "execution_count": 19,
   "metadata": {},
   "outputs": [
    {
     "data": {
      "text/html": [
       "<div>\n",
       "<style scoped>\n",
       "    .dataframe tbody tr th:only-of-type {\n",
       "        vertical-align: middle;\n",
       "    }\n",
       "\n",
       "    .dataframe tbody tr th {\n",
       "        vertical-align: top;\n",
       "    }\n",
       "\n",
       "    .dataframe thead th {\n",
       "        text-align: right;\n",
       "    }\n",
       "</style>\n",
       "<table border=\"1\" class=\"dataframe\">\n",
       "  <thead>\n",
       "    <tr style=\"text-align: right;\">\n",
       "      <th></th>\n",
       "      <th>Id</th>\n",
       "      <th>MSSubClass</th>\n",
       "      <th>MSZoning</th>\n",
       "      <th>LotArea</th>\n",
       "      <th>Neighborhood</th>\n",
       "      <th>BldgType</th>\n",
       "      <th>YearBuilt</th>\n",
       "      <th>GarageCars</th>\n",
       "      <th>PoolArea</th>\n",
       "      <th>OverallQual</th>\n",
       "      <th>OverallCond</th>\n",
       "      <th>desirability</th>\n",
       "    </tr>\n",
       "  </thead>\n",
       "  <tbody>\n",
       "    <tr>\n",
       "      <th>705</th>\n",
       "      <td>706</td>\n",
       "      <td>190</td>\n",
       "      <td>RM</td>\n",
       "      <td>5600</td>\n",
       "      <td>IDOTRR</td>\n",
       "      <td>2fmCon</td>\n",
       "      <td>1930</td>\n",
       "      <td>0</td>\n",
       "      <td>0</td>\n",
       "      <td>4</td>\n",
       "      <td>5</td>\n",
       "      <td>1.541852</td>\n",
       "    </tr>\n",
       "    <tr>\n",
       "      <th>495</th>\n",
       "      <td>496</td>\n",
       "      <td>30</td>\n",
       "      <td>C (all)</td>\n",
       "      <td>7879</td>\n",
       "      <td>IDOTRR</td>\n",
       "      <td>1Fam</td>\n",
       "      <td>1920</td>\n",
       "      <td>0</td>\n",
       "      <td>0</td>\n",
       "      <td>4</td>\n",
       "      <td>5</td>\n",
       "      <td>1.579073</td>\n",
       "    </tr>\n",
       "    <tr>\n",
       "      <th>375</th>\n",
       "      <td>376</td>\n",
       "      <td>30</td>\n",
       "      <td>RL</td>\n",
       "      <td>10020</td>\n",
       "      <td>Edwards</td>\n",
       "      <td>1Fam</td>\n",
       "      <td>1922</td>\n",
       "      <td>0</td>\n",
       "      <td>0</td>\n",
       "      <td>1</td>\n",
       "      <td>1</td>\n",
       "      <td>1.616316</td>\n",
       "    </tr>\n",
       "    <tr>\n",
       "      <th>636</th>\n",
       "      <td>637</td>\n",
       "      <td>30</td>\n",
       "      <td>RM</td>\n",
       "      <td>6120</td>\n",
       "      <td>BrkSide</td>\n",
       "      <td>1Fam</td>\n",
       "      <td>1936</td>\n",
       "      <td>0</td>\n",
       "      <td>0</td>\n",
       "      <td>2</td>\n",
       "      <td>3</td>\n",
       "      <td>1.618275</td>\n",
       "    </tr>\n",
       "    <tr>\n",
       "      <th>1325</th>\n",
       "      <td>1326</td>\n",
       "      <td>30</td>\n",
       "      <td>RM</td>\n",
       "      <td>3636</td>\n",
       "      <td>IDOTRR</td>\n",
       "      <td>1Fam</td>\n",
       "      <td>1922</td>\n",
       "      <td>0</td>\n",
       "      <td>0</td>\n",
       "      <td>4</td>\n",
       "      <td>4</td>\n",
       "      <td>1.623083</td>\n",
       "    </tr>\n",
       "    <tr>\n",
       "      <th>968</th>\n",
       "      <td>969</td>\n",
       "      <td>50</td>\n",
       "      <td>RM</td>\n",
       "      <td>5925</td>\n",
       "      <td>OldTown</td>\n",
       "      <td>1Fam</td>\n",
       "      <td>1910</td>\n",
       "      <td>0</td>\n",
       "      <td>0</td>\n",
       "      <td>3</td>\n",
       "      <td>6</td>\n",
       "      <td>1.746998</td>\n",
       "    </tr>\n",
       "    <tr>\n",
       "      <th>620</th>\n",
       "      <td>621</td>\n",
       "      <td>30</td>\n",
       "      <td>RL</td>\n",
       "      <td>8248</td>\n",
       "      <td>Edwards</td>\n",
       "      <td>1Fam</td>\n",
       "      <td>1914</td>\n",
       "      <td>0</td>\n",
       "      <td>0</td>\n",
       "      <td>3</td>\n",
       "      <td>3</td>\n",
       "      <td>1.753191</td>\n",
       "    </tr>\n",
       "    <tr>\n",
       "      <th>1323</th>\n",
       "      <td>1324</td>\n",
       "      <td>30</td>\n",
       "      <td>RL</td>\n",
       "      <td>5330</td>\n",
       "      <td>BrkSide</td>\n",
       "      <td>1Fam</td>\n",
       "      <td>1940</td>\n",
       "      <td>0</td>\n",
       "      <td>0</td>\n",
       "      <td>4</td>\n",
       "      <td>7</td>\n",
       "      <td>1.802955</td>\n",
       "    </tr>\n",
       "    <tr>\n",
       "      <th>1218</th>\n",
       "      <td>1219</td>\n",
       "      <td>50</td>\n",
       "      <td>RM</td>\n",
       "      <td>6240</td>\n",
       "      <td>BrkSide</td>\n",
       "      <td>1Fam</td>\n",
       "      <td>1947</td>\n",
       "      <td>0</td>\n",
       "      <td>0</td>\n",
       "      <td>4</td>\n",
       "      <td>5</td>\n",
       "      <td>1.812844</td>\n",
       "    </tr>\n",
       "    <tr>\n",
       "      <th>307</th>\n",
       "      <td>308</td>\n",
       "      <td>50</td>\n",
       "      <td>RM</td>\n",
       "      <td>7920</td>\n",
       "      <td>IDOTRR</td>\n",
       "      <td>1Fam</td>\n",
       "      <td>1920</td>\n",
       "      <td>0</td>\n",
       "      <td>0</td>\n",
       "      <td>6</td>\n",
       "      <td>7</td>\n",
       "      <td>1.849837</td>\n",
       "    </tr>\n",
       "  </tbody>\n",
       "</table>\n",
       "</div>"
      ],
      "text/plain": [
       "        Id  MSSubClass MSZoning  LotArea Neighborhood BldgType  YearBuilt  \\\n",
       "705    706         190       RM     5600       IDOTRR   2fmCon       1930   \n",
       "495    496          30  C (all)     7879       IDOTRR     1Fam       1920   \n",
       "375    376          30       RL    10020      Edwards     1Fam       1922   \n",
       "636    637          30       RM     6120      BrkSide     1Fam       1936   \n",
       "1325  1326          30       RM     3636       IDOTRR     1Fam       1922   \n",
       "968    969          50       RM     5925      OldTown     1Fam       1910   \n",
       "620    621          30       RL     8248      Edwards     1Fam       1914   \n",
       "1323  1324          30       RL     5330      BrkSide     1Fam       1940   \n",
       "1218  1219          50       RM     6240      BrkSide     1Fam       1947   \n",
       "307    308          50       RM     7920       IDOTRR     1Fam       1920   \n",
       "\n",
       "      GarageCars  PoolArea  OverallQual  OverallCond  desirability  \n",
       "705            0         0            4            5      1.541852  \n",
       "495            0         0            4            5      1.579073  \n",
       "375            0         0            1            1      1.616316  \n",
       "636            0         0            2            3      1.618275  \n",
       "1325           0         0            4            4      1.623083  \n",
       "968            0         0            3            6      1.746998  \n",
       "620            0         0            3            3      1.753191  \n",
       "1323           0         0            4            7      1.802955  \n",
       "1218           0         0            4            5      1.812844  \n",
       "307            0         0            6            7      1.849837  "
      ]
     },
     "execution_count": 19,
     "metadata": {},
     "output_type": "execute_result"
    }
   ],
   "source": [
    "least_desirable[house_identifiers]"
   ]
  },
  {
   "cell_type": "code",
   "execution_count": 20,
   "metadata": {},
   "outputs": [
    {
     "data": {
      "text/html": [
       "<div>\n",
       "<style scoped>\n",
       "    .dataframe tbody tr th:only-of-type {\n",
       "        vertical-align: middle;\n",
       "    }\n",
       "\n",
       "    .dataframe tbody tr th {\n",
       "        vertical-align: top;\n",
       "    }\n",
       "\n",
       "    .dataframe thead th {\n",
       "        text-align: right;\n",
       "    }\n",
       "</style>\n",
       "<table border=\"1\" class=\"dataframe\">\n",
       "  <thead>\n",
       "    <tr style=\"text-align: right;\">\n",
       "      <th></th>\n",
       "      <th>Id</th>\n",
       "      <th>MSSubClass</th>\n",
       "      <th>MSZoning</th>\n",
       "      <th>LotArea</th>\n",
       "      <th>Neighborhood</th>\n",
       "      <th>BldgType</th>\n",
       "      <th>YearBuilt</th>\n",
       "      <th>GarageCars</th>\n",
       "      <th>PoolArea</th>\n",
       "      <th>OverallQual</th>\n",
       "      <th>OverallCond</th>\n",
       "      <th>desirability</th>\n",
       "    </tr>\n",
       "  </thead>\n",
       "  <tbody>\n",
       "    <tr>\n",
       "      <th>1182</th>\n",
       "      <td>1183</td>\n",
       "      <td>60</td>\n",
       "      <td>RL</td>\n",
       "      <td>15623</td>\n",
       "      <td>NoRidge</td>\n",
       "      <td>1Fam</td>\n",
       "      <td>1996</td>\n",
       "      <td>3</td>\n",
       "      <td>555</td>\n",
       "      <td>10</td>\n",
       "      <td>5</td>\n",
       "      <td>8.087744</td>\n",
       "    </tr>\n",
       "    <tr>\n",
       "      <th>1298</th>\n",
       "      <td>1299</td>\n",
       "      <td>60</td>\n",
       "      <td>RL</td>\n",
       "      <td>63887</td>\n",
       "      <td>Edwards</td>\n",
       "      <td>1Fam</td>\n",
       "      <td>2008</td>\n",
       "      <td>2</td>\n",
       "      <td>480</td>\n",
       "      <td>10</td>\n",
       "      <td>5</td>\n",
       "      <td>7.861911</td>\n",
       "    </tr>\n",
       "    <tr>\n",
       "      <th>691</th>\n",
       "      <td>692</td>\n",
       "      <td>60</td>\n",
       "      <td>RL</td>\n",
       "      <td>21535</td>\n",
       "      <td>NoRidge</td>\n",
       "      <td>1Fam</td>\n",
       "      <td>1994</td>\n",
       "      <td>3</td>\n",
       "      <td>0</td>\n",
       "      <td>10</td>\n",
       "      <td>6</td>\n",
       "      <td>7.528131</td>\n",
       "    </tr>\n",
       "    <tr>\n",
       "      <th>825</th>\n",
       "      <td>826</td>\n",
       "      <td>20</td>\n",
       "      <td>RL</td>\n",
       "      <td>14803</td>\n",
       "      <td>NridgHt</td>\n",
       "      <td>1Fam</td>\n",
       "      <td>2007</td>\n",
       "      <td>3</td>\n",
       "      <td>0</td>\n",
       "      <td>10</td>\n",
       "      <td>5</td>\n",
       "      <td>7.463215</td>\n",
       "    </tr>\n",
       "    <tr>\n",
       "      <th>1373</th>\n",
       "      <td>1374</td>\n",
       "      <td>20</td>\n",
       "      <td>RL</td>\n",
       "      <td>11400</td>\n",
       "      <td>NoRidge</td>\n",
       "      <td>1Fam</td>\n",
       "      <td>2001</td>\n",
       "      <td>3</td>\n",
       "      <td>0</td>\n",
       "      <td>10</td>\n",
       "      <td>5</td>\n",
       "      <td>7.452851</td>\n",
       "    </tr>\n",
       "    <tr>\n",
       "      <th>440</th>\n",
       "      <td>441</td>\n",
       "      <td>20</td>\n",
       "      <td>RL</td>\n",
       "      <td>15431</td>\n",
       "      <td>NridgHt</td>\n",
       "      <td>1Fam</td>\n",
       "      <td>2008</td>\n",
       "      <td>3</td>\n",
       "      <td>0</td>\n",
       "      <td>10</td>\n",
       "      <td>5</td>\n",
       "      <td>7.410871</td>\n",
       "    </tr>\n",
       "    <tr>\n",
       "      <th>581</th>\n",
       "      <td>582</td>\n",
       "      <td>20</td>\n",
       "      <td>RL</td>\n",
       "      <td>12704</td>\n",
       "      <td>NridgHt</td>\n",
       "      <td>1Fam</td>\n",
       "      <td>2008</td>\n",
       "      <td>3</td>\n",
       "      <td>0</td>\n",
       "      <td>8</td>\n",
       "      <td>5</td>\n",
       "      <td>7.381147</td>\n",
       "    </tr>\n",
       "    <tr>\n",
       "      <th>224</th>\n",
       "      <td>225</td>\n",
       "      <td>20</td>\n",
       "      <td>RL</td>\n",
       "      <td>13472</td>\n",
       "      <td>NridgHt</td>\n",
       "      <td>1Fam</td>\n",
       "      <td>2003</td>\n",
       "      <td>3</td>\n",
       "      <td>0</td>\n",
       "      <td>10</td>\n",
       "      <td>5</td>\n",
       "      <td>7.380473</td>\n",
       "    </tr>\n",
       "    <tr>\n",
       "      <th>178</th>\n",
       "      <td>179</td>\n",
       "      <td>20</td>\n",
       "      <td>RL</td>\n",
       "      <td>17423</td>\n",
       "      <td>StoneBr</td>\n",
       "      <td>1Fam</td>\n",
       "      <td>2008</td>\n",
       "      <td>3</td>\n",
       "      <td>0</td>\n",
       "      <td>9</td>\n",
       "      <td>5</td>\n",
       "      <td>7.354648</td>\n",
       "    </tr>\n",
       "    <tr>\n",
       "      <th>898</th>\n",
       "      <td>899</td>\n",
       "      <td>20</td>\n",
       "      <td>RL</td>\n",
       "      <td>12919</td>\n",
       "      <td>NridgHt</td>\n",
       "      <td>1Fam</td>\n",
       "      <td>2009</td>\n",
       "      <td>3</td>\n",
       "      <td>0</td>\n",
       "      <td>9</td>\n",
       "      <td>5</td>\n",
       "      <td>7.325294</td>\n",
       "    </tr>\n",
       "  </tbody>\n",
       "</table>\n",
       "</div>"
      ],
      "text/plain": [
       "        Id  MSSubClass MSZoning  LotArea Neighborhood BldgType  YearBuilt  \\\n",
       "1182  1183          60       RL    15623      NoRidge     1Fam       1996   \n",
       "1298  1299          60       RL    63887      Edwards     1Fam       2008   \n",
       "691    692          60       RL    21535      NoRidge     1Fam       1994   \n",
       "825    826          20       RL    14803      NridgHt     1Fam       2007   \n",
       "1373  1374          20       RL    11400      NoRidge     1Fam       2001   \n",
       "440    441          20       RL    15431      NridgHt     1Fam       2008   \n",
       "581    582          20       RL    12704      NridgHt     1Fam       2008   \n",
       "224    225          20       RL    13472      NridgHt     1Fam       2003   \n",
       "178    179          20       RL    17423      StoneBr     1Fam       2008   \n",
       "898    899          20       RL    12919      NridgHt     1Fam       2009   \n",
       "\n",
       "      GarageCars  PoolArea  OverallQual  OverallCond  desirability  \n",
       "1182           3       555           10            5      8.087744  \n",
       "1298           2       480           10            5      7.861911  \n",
       "691            3         0           10            6      7.528131  \n",
       "825            3         0           10            5      7.463215  \n",
       "1373           3         0           10            5      7.452851  \n",
       "440            3         0           10            5      7.410871  \n",
       "581            3         0            8            5      7.381147  \n",
       "224            3         0           10            5      7.380473  \n",
       "178            3         0            9            5      7.354648  \n",
       "898            3         0            9            5      7.325294  "
      ]
     },
     "execution_count": 20,
     "metadata": {},
     "output_type": "execute_result"
    }
   ],
   "source": [
    "most_desirable[house_identifiers]"
   ]
  },
  {
   "cell_type": "markdown",
   "metadata": {},
   "source": [
    "## Task 3"
   ]
  },
  {
   "cell_type": "code",
   "execution_count": 221,
   "metadata": {},
   "outputs": [],
   "source": [
    "# all_clustering_columns = ['Neighborhood', 'MSSubClass','MSZoning','LotFrontage','LotArea','Street','Alley','KitchenAbvGr', 'BedroomAbvGr', 'LotShape','LandContour','LotConfig','LandSlope','Condition1','Condition2','BldgType','HouseStyle','OverallQual','OverallCond','YearBuilt','RoofStyle','RoofMatl','Exterior1st','Exterior2nd','MasVnrType','MasVnrArea','ExterQual','ExterCond','Foundation','BsmtQual','BsmtCond','BsmtExposure','BsmtFinType1','BsmtFinSF1','BsmtFinType2','BsmtFinSF2','BsmtUnfSF','TotalBsmtSF','Heating','Electrical','1stFlrSF','2ndFlrSF','GrLivArea','BsmtFullBath','BsmtHalfBath','FullBath','HalfBath','TotRmsAbvGrd','Fireplaces','GarageType','GarageYrBlt','GarageCars','GarageArea','PavedDrive','WoodDeckSF','OpenPorchSF','EnclosedPorch','3SsnPorch','ScreenPorch','PoolArea','Fence','SalePrice']\n",
    "# all_clustering_columns = ['desirability_score', '1stFlrSF', 'BldgType', 'Condition1', 'DesiringScore', 'ExterQual', 'Exterior1st', 'Exterior2nd', 'Fireplaces', 'Foundation', 'FullBath', 'GarageArea', 'GarageCars', 'GrLivArea', 'HouseStyle', 'KitchenQual', 'LandContour', 'LandSlope', 'LotArea', 'LowQualFinSF', 'MSSubClass', 'MSZoning', 'OverallQual', 'SaleCondition', 'SalePrice', 'SaleType', 'TotRmsAbvGrd', 'TotalBsmtSF']\n",
    "all_clustering_columns = ['desirability_score', 'MSSubClass','MSZoning','LotFrontage','LotArea','Street','Alley','KitchenAbvGr', 'BedroomAbvGr', 'LotShape','LandContour','LotConfig','LandSlope','Condition1','Condition2','BldgType','HouseStyle','OverallQual','OverallCond','YearBuilt','RoofStyle','RoofMatl','Exterior1st','Exterior2nd','MasVnrType','MasVnrArea','ExterQual','ExterCond','Foundation','BsmtQual','BsmtCond','BsmtExposure','BsmtFinType1','BsmtFinSF1','BsmtFinType2','BsmtFinSF2','BsmtUnfSF','TotalBsmtSF','Heating','Electrical','1stFlrSF','2ndFlrSF','GrLivArea','BsmtFullBath','BsmtHalfBath','FullBath','HalfBath','TotRmsAbvGrd','Fireplaces','GarageType','GarageYrBlt','GarageCars','GarageArea','PavedDrive','WoodDeckSF','OpenPorchSF','EnclosedPorch','3SsnPorch','ScreenPorch','PoolArea','Fence','SalePrice']"
   ]
  },
  {
   "cell_type": "code",
   "execution_count": 222,
   "metadata": {},
   "outputs": [],
   "source": [
    "cluster_base_df = train_set[clustering_cols].copy(deep=True)\n",
    "non_null_columns = cluster_base_df.columns[cluster_base_df.isnull().sum() == 0]\n",
    "non_null_columns = non_null_columns.tolist()\n",
    "\n",
    "cluster_base_df = cluster_base_df[non_null_columns]\n",
    "# deep_copy_df = deep_copy_df.drop(, axis=1)"
   ]
  },
  {
   "cell_type": "markdown",
   "metadata": {},
   "source": [
    "### Citation:\n",
    "https://stackoverflow.com/questions/29803093/check-which-columns-in-dataframe-are-categorical"
   ]
  },
  {
   "cell_type": "code",
   "execution_count": 223,
   "metadata": {},
   "outputs": [],
   "source": [
    "numeric_cols = cluster_base_df._get_numeric_data().columns\n",
    "categorical_cols = list(set(cluster_base_df.columns) - set(numeric_cols))"
   ]
  },
  {
   "cell_type": "markdown",
   "metadata": {},
   "source": [
    "### Citation:\n",
    "Categorical Encoding: https://pbpython.com/categorical-encoding.html </br>\n",
    "Normalization: https://stackoverflow.com/questions/24645153/pandas-dataframe-columns-scaling-with-sklearn </br>"
   ]
  },
  {
   "cell_type": "code",
   "execution_count": 224,
   "metadata": {},
   "outputs": [],
   "source": [
    "## Converting categorical columsn\n",
    "for c in categorical_cols:\n",
    "    col_prefix = c + \"_\"\n",
    "    one_hot_encoding = pd.get_dummies(cluster_base_df[c], prefix=col_prefix)\n",
    "    cluster_base_df = cluster_base_df.drop(c, axis=1)\n",
    "    cluster_base_df = cluster_base_df.join(one_hot_encoding)\n",
    "    "
   ]
  },
  {
   "cell_type": "code",
   "execution_count": 225,
   "metadata": {},
   "outputs": [],
   "source": [
    "# scaler = preprocessing.MinMaxScaler()\n",
    "# filtered_columns = cluster_base_df.columns.tolist()\n",
    "# cluster_base_df[filtered_columns] = scaler.fit_transform(cluster_base_df[filtered_columns])"
   ]
  },
  {
   "cell_type": "markdown",
   "metadata": {},
   "source": [
    "### Citation:\n",
    "https://www.geeksforgeeks.org/python-pandas-dataframe-nlargest/"
   ]
  },
  {
   "cell_type": "code",
   "execution_count": 226,
   "metadata": {},
   "outputs": [],
   "source": [
    "def inverse_cossim(x, y):\n",
    "    return 1.0 - (np.dot(x, y)/(np.linalg.norm(x) * np.linalg.norm(y)))\n",
    "\n",
    "def euclid_distance(x, y):\n",
    "    return np.linalg.norm(x-y)\n",
    "\n",
    "def affinity_measure(x):\n",
    "    return pairwise_distances(x, metric=euclid_distance)"
   ]
  },
  {
   "cell_type": "markdown",
   "metadata": {},
   "source": [
    "## Citation\n",
    "https://stackabuse.com/hierarchical-clustering-with-python-and-scikit-learn/"
   ]
  },
  {
   "cell_type": "code",
   "execution_count": 227,
   "metadata": {},
   "outputs": [],
   "source": [
    "cluster = AgglomerativeClustering(n_clusters=15, affinity=affinity_measure, linkage='average')"
   ]
  },
  {
   "cell_type": "code",
   "execution_count": 228,
   "metadata": {},
   "outputs": [],
   "source": [
    "clusters = cluster.fit(cluster_base_df.values)"
   ]
  },
  {
   "cell_type": "code",
   "execution_count": 229,
   "metadata": {},
   "outputs": [
    {
     "data": {
      "text/plain": [
       "0     946\n",
       "6     273\n",
       "3      96\n",
       "8      85\n",
       "10     27\n",
       "4      14\n",
       "2       5\n",
       "1       4\n",
       "12      2\n",
       "7       2\n",
       "5       2\n",
       "14      1\n",
       "13      1\n",
       "11      1\n",
       "9       1\n",
       "Name: cluster_ids, dtype: int64"
      ]
     },
     "execution_count": 229,
     "metadata": {},
     "output_type": "execute_result"
    }
   ],
   "source": [
    "cluster_base_df[\"cluster_ids\"] = clusters.labels_\n",
    "cluster_base_df[\"cluster_ids\"].value_counts()"
   ]
  },
  {
   "cell_type": "code",
   "execution_count": 230,
   "metadata": {},
   "outputs": [
    {
     "name": "stdout",
     "output_type": "stream",
     "text": [
      "[t-SNE] Computing 91 nearest neighbors...\n",
      "[t-SNE] Indexed 1460 samples in 0.008s...\n",
      "[t-SNE] Computed neighbors for 1460 samples in 0.323s...\n",
      "[t-SNE] Computed conditional probabilities for sample 1000 / 1460\n",
      "[t-SNE] Computed conditional probabilities for sample 1460 / 1460\n",
      "[t-SNE] Mean sigma: 3.618117\n",
      "[t-SNE] KL divergence after 250 iterations with early exaggeration: 53.015148\n",
      "[t-SNE] KL divergence after 1000 iterations: 0.305235\n"
     ]
    }
   ],
   "source": [
    "tsne = TSNE(n_components=2, verbose=1)\n",
    "tsne_results = tsne.fit_transform(deep_copy_df)"
   ]
  },
  {
   "cell_type": "code",
   "execution_count": 231,
   "metadata": {},
   "outputs": [],
   "source": [
    "cluster_base_df[\"first_component\"] = tsne_results[:, 0]\n",
    "cluster_base_df[\"second_component\"] = tsne_results[:, 1]"
   ]
  },
  {
   "cell_type": "code",
   "execution_count": 232,
   "metadata": {},
   "outputs": [
    {
     "data": {
      "image/png": "[encoded data removed]",
      "text/plain": [
       "<Figure size 432x288 with 1 Axes>"
      ]
     },
     "metadata": {
      "needs_background": "light"
     },
     "output_type": "display_data"
    }
   ],
   "source": [
    "sns.scatterplot(x=\"first_component\", y=\"second_component\", hue=\"cluster_ids\", palette=sns.color_palette(\"hls\", 15), data=cluster_base_df, legend=\"full\")\n",
    "plt.tight_layout()"
   ]
  },
  {
   "cell_type": "code",
   "execution_count": 233,
   "metadata": {},
   "outputs": [],
   "source": [
    "original_df = train_set.copy(deep=True)"
   ]
  },
  {
   "cell_type": "code",
   "execution_count": 235,
   "metadata": {},
   "outputs": [],
   "source": [
    "original_df[\"cluster_ids\"] = cluster_base_df[\"cluster_ids\"]"
   ]
  },
  {
   "cell_type": "code",
   "execution_count": 236,
   "metadata": {},
   "outputs": [],
   "source": [
    "neighborhood_values = list(original_df.Neighborhood.unique())"
   ]
  },
  {
   "cell_type": "markdown",
   "metadata": {},
   "source": [
    "## Citation:\n",
    "Batching: https://stackoverflow.com/questions/312443/how-do-you-split-a-list-into-evenly-sized-chunks"
   ]
  },
  {
   "cell_type": "code",
   "execution_count": 249,
   "metadata": {},
   "outputs": [],
   "source": [
    "# figures, axes = plt.subplots(1, 3)\n",
    "\n",
    "cluster_neighbor = {}\n",
    "sample_plots = 0\n",
    "for i in range(20):\n",
    "    filter_df = original_df[original_df[\"cluster_ids\"] == i].groupby([\"Neighborhood\"])[\"SalePrice\"].agg([\"count\"]).reset_index()\n",
    "    shapes = filter_df.shape\n",
    "#     print(str(shapes))\n",
    "#     if shapes[0] > 2 and shapes[0] < 10 and sample_plots < 3:\n",
    "#         sns.countplot(x='Neighborhood', data=filter_df, ax=axes[sample_plots])\n",
    "#         axes[sample_plots].set_title(\"Cluster number: \" + str(i))\n",
    "#         sample_plots += 1\n",
    "\n",
    "    if shapes[0] > 0:\n",
    "        cluster_neighbor[i] = filter_df.iloc[filter_df[\"count\"].idxmax()][\"Neighborhood\"]\n",
    "    \n",
    "# plt.tight_layout()\n",
    "    "
   ]
  },
  {
   "cell_type": "code",
   "execution_count": 250,
   "metadata": {},
   "outputs": [
    {
     "data": {
      "text/plain": [
       "{0: 'NAmes',\n",
       " 1: 'NridgHt',\n",
       " 2: 'ClearCr',\n",
       " 3: 'Edwards',\n",
       " 4: 'NridgHt',\n",
       " 5: 'NoRidge',\n",
       " 6: 'CollgCr',\n",
       " 7: 'NoRidge',\n",
       " 8: 'NridgHt',\n",
       " 9: 'ClearCr',\n",
       " 10: 'NridgHt',\n",
       " 11: 'Timber',\n",
       " 12: 'Edwards',\n",
       " 13: 'Timber',\n",
       " 14: 'ClearCr'}"
      ]
     },
     "execution_count": 250,
     "metadata": {},
     "output_type": "execute_result"
    }
   ],
   "source": [
    "cluster_neighbor"
   ]
  },
  {
   "cell_type": "markdown",
   "metadata": {},
   "source": [
    "## Task 6"
   ]
  },
  {
   "cell_type": "code",
   "execution_count": 254,
   "metadata": {},
   "outputs": [
    {
     "data": {
      "text/html": [
       "<div>\n",
       "<style scoped>\n",
       "    .dataframe tbody tr th:only-of-type {\n",
       "        vertical-align: middle;\n",
       "    }\n",
       "\n",
       "    .dataframe tbody tr th {\n",
       "        vertical-align: top;\n",
       "    }\n",
       "\n",
       "    .dataframe thead th {\n",
       "        text-align: right;\n",
       "    }\n",
       "</style>\n",
       "<table border=\"1\" class=\"dataframe\">\n",
       "  <thead>\n",
       "    <tr style=\"text-align: right;\">\n",
       "      <th></th>\n",
       "      <th>Id</th>\n",
       "      <th>MSSubClass</th>\n",
       "      <th>LotFrontage</th>\n",
       "      <th>LotArea</th>\n",
       "      <th>OverallQual</th>\n",
       "      <th>OverallCond</th>\n",
       "      <th>YearBuilt</th>\n",
       "      <th>YearRemodAdd</th>\n",
       "      <th>MasVnrArea</th>\n",
       "      <th>BsmtFinSF1</th>\n",
       "      <th>...</th>\n",
       "      <th>OpenPorchSF</th>\n",
       "      <th>EnclosedPorch</th>\n",
       "      <th>3SsnPorch</th>\n",
       "      <th>ScreenPorch</th>\n",
       "      <th>PoolArea</th>\n",
       "      <th>MiscVal</th>\n",
       "      <th>MoSold</th>\n",
       "      <th>YrSold</th>\n",
       "      <th>SalePrice</th>\n",
       "      <th>desirability</th>\n",
       "    </tr>\n",
       "  </thead>\n",
       "  <tbody>\n",
       "    <tr>\n",
       "      <th>SalePrice</th>\n",
       "      <td>-0.021917</td>\n",
       "      <td>-0.084284</td>\n",
       "      <td>0.351799</td>\n",
       "      <td>0.263843</td>\n",
       "      <td>0.790982</td>\n",
       "      <td>-0.077856</td>\n",
       "      <td>0.522897</td>\n",
       "      <td>0.507101</td>\n",
       "      <td>0.477493</td>\n",
       "      <td>0.386420</td>\n",
       "      <td>...</td>\n",
       "      <td>0.315856</td>\n",
       "      <td>-0.128578</td>\n",
       "      <td>0.044584</td>\n",
       "      <td>0.111447</td>\n",
       "      <td>0.092404</td>\n",
       "      <td>-0.021190</td>\n",
       "      <td>0.046432</td>\n",
       "      <td>-0.028923</td>\n",
       "      <td>1.000000</td>\n",
       "      <td>0.783958</td>\n",
       "    </tr>\n",
       "    <tr>\n",
       "      <th>OverallQual</th>\n",
       "      <td>-0.028365</td>\n",
       "      <td>0.032628</td>\n",
       "      <td>0.251646</td>\n",
       "      <td>0.105806</td>\n",
       "      <td>1.000000</td>\n",
       "      <td>-0.091932</td>\n",
       "      <td>0.572323</td>\n",
       "      <td>0.550684</td>\n",
       "      <td>0.411876</td>\n",
       "      <td>0.239666</td>\n",
       "      <td>...</td>\n",
       "      <td>0.308819</td>\n",
       "      <td>-0.113937</td>\n",
       "      <td>0.030371</td>\n",
       "      <td>0.064886</td>\n",
       "      <td>0.065166</td>\n",
       "      <td>-0.031406</td>\n",
       "      <td>0.070815</td>\n",
       "      <td>-0.027347</td>\n",
       "      <td>0.790982</td>\n",
       "      <td>0.771165</td>\n",
       "    </tr>\n",
       "    <tr>\n",
       "      <th>desirability</th>\n",
       "      <td>-0.013492</td>\n",
       "      <td>-0.147957</td>\n",
       "      <td>0.327216</td>\n",
       "      <td>0.169409</td>\n",
       "      <td>0.771165</td>\n",
       "      <td>-0.198524</td>\n",
       "      <td>0.805941</td>\n",
       "      <td>0.697021</td>\n",
       "      <td>0.419579</td>\n",
       "      <td>0.310212</td>\n",
       "      <td>...</td>\n",
       "      <td>0.304594</td>\n",
       "      <td>-0.258441</td>\n",
       "      <td>0.045373</td>\n",
       "      <td>0.019402</td>\n",
       "      <td>0.062810</td>\n",
       "      <td>-0.035519</td>\n",
       "      <td>0.037275</td>\n",
       "      <td>-0.018644</td>\n",
       "      <td>0.783958</td>\n",
       "      <td>1.000000</td>\n",
       "    </tr>\n",
       "    <tr>\n",
       "      <th>GrLivArea</th>\n",
       "      <td>0.008273</td>\n",
       "      <td>0.074853</td>\n",
       "      <td>0.402797</td>\n",
       "      <td>0.263116</td>\n",
       "      <td>0.593007</td>\n",
       "      <td>-0.079686</td>\n",
       "      <td>0.199010</td>\n",
       "      <td>0.287389</td>\n",
       "      <td>0.390857</td>\n",
       "      <td>0.208171</td>\n",
       "      <td>...</td>\n",
       "      <td>0.330224</td>\n",
       "      <td>0.009113</td>\n",
       "      <td>0.020643</td>\n",
       "      <td>0.101510</td>\n",
       "      <td>0.170205</td>\n",
       "      <td>-0.002416</td>\n",
       "      <td>0.050240</td>\n",
       "      <td>-0.036526</td>\n",
       "      <td>0.708624</td>\n",
       "      <td>0.520934</td>\n",
       "    </tr>\n",
       "    <tr>\n",
       "      <th>GarageCars</th>\n",
       "      <td>0.016570</td>\n",
       "      <td>-0.040110</td>\n",
       "      <td>0.285691</td>\n",
       "      <td>0.154871</td>\n",
       "      <td>0.600671</td>\n",
       "      <td>-0.185758</td>\n",
       "      <td>0.537850</td>\n",
       "      <td>0.420622</td>\n",
       "      <td>0.364204</td>\n",
       "      <td>0.224054</td>\n",
       "      <td>...</td>\n",
       "      <td>0.213569</td>\n",
       "      <td>-0.151434</td>\n",
       "      <td>0.035765</td>\n",
       "      <td>0.050494</td>\n",
       "      <td>0.020934</td>\n",
       "      <td>-0.043080</td>\n",
       "      <td>0.040522</td>\n",
       "      <td>-0.039117</td>\n",
       "      <td>0.640409</td>\n",
       "      <td>0.721384</td>\n",
       "    </tr>\n",
       "  </tbody>\n",
       "</table>\n",
       "<p>5 rows × 39 columns</p>\n",
       "</div>"
      ],
      "text/plain": [
       "                    Id  MSSubClass  LotFrontage   LotArea  OverallQual  \\\n",
       "SalePrice    -0.021917   -0.084284     0.351799  0.263843     0.790982   \n",
       "OverallQual  -0.028365    0.032628     0.251646  0.105806     1.000000   \n",
       "desirability -0.013492   -0.147957     0.327216  0.169409     0.771165   \n",
       "GrLivArea     0.008273    0.074853     0.402797  0.263116     0.593007   \n",
       "GarageCars    0.016570   -0.040110     0.285691  0.154871     0.600671   \n",
       "\n",
       "              OverallCond  YearBuilt  YearRemodAdd  MasVnrArea  BsmtFinSF1  \\\n",
       "SalePrice       -0.077856   0.522897      0.507101    0.477493    0.386420   \n",
       "OverallQual     -0.091932   0.572323      0.550684    0.411876    0.239666   \n",
       "desirability    -0.198524   0.805941      0.697021    0.419579    0.310212   \n",
       "GrLivArea       -0.079686   0.199010      0.287389    0.390857    0.208171   \n",
       "GarageCars      -0.185758   0.537850      0.420622    0.364204    0.224054   \n",
       "\n",
       "              ...  OpenPorchSF  EnclosedPorch  3SsnPorch  ScreenPorch  \\\n",
       "SalePrice     ...     0.315856      -0.128578   0.044584     0.111447   \n",
       "OverallQual   ...     0.308819      -0.113937   0.030371     0.064886   \n",
       "desirability  ...     0.304594      -0.258441   0.045373     0.019402   \n",
       "GrLivArea     ...     0.330224       0.009113   0.020643     0.101510   \n",
       "GarageCars    ...     0.213569      -0.151434   0.035765     0.050494   \n",
       "\n",
       "              PoolArea   MiscVal    MoSold    YrSold  SalePrice  desirability  \n",
       "SalePrice     0.092404 -0.021190  0.046432 -0.028923   1.000000      0.783958  \n",
       "OverallQual   0.065166 -0.031406  0.070815 -0.027347   0.790982      0.771165  \n",
       "desirability  0.062810 -0.035519  0.037275 -0.018644   0.783958      1.000000  \n",
       "GrLivArea     0.170205 -0.002416  0.050240 -0.036526   0.708624      0.520934  \n",
       "GarageCars    0.020934 -0.043080  0.040522 -0.039117   0.640409      0.721384  \n",
       "\n",
       "[5 rows x 39 columns]"
      ]
     },
     "execution_count": 254,
     "metadata": {},
     "output_type": "execute_result"
    }
   ],
   "source": [
    "train_set.corr().nlargest(5, 'SalePrice')"
   ]
  },
  {
   "cell_type": "markdown",
   "metadata": {},
   "source": [
    "## Most important features to attempt\n",
    "OverallQual </br>\n",
    "YearBuilt </br>\n",
    "YearRemodAdd </br>\n",
    "MasVnrArea </br>\n",
    "desirability </br>\n",
    "GarageCars </br>\n",
    "GrLivArea </br>\n",
    "GarageArea </br>\n",
    "TotalBsmtSF </br>\n",
    "1stFlrSF </br>\n"
   ]
  },
  {
   "cell_type": "code",
   "execution_count": 261,
   "metadata": {},
   "outputs": [
    {
     "name": "stderr",
     "output_type": "stream",
     "text": [
      "C:\\Users\\Paras\\Anaconda3\\lib\\site-packages\\ipykernel_launcher.py:19: FutureWarning: \n",
      "Passing list-likes to .loc or [] with any missing label will raise\n",
      "KeyError in the future, you can use .reindex() as an alternative.\n",
      "\n",
      "See the documentation here:\n",
      "https://pandas.pydata.org/pandas-docs/stable/indexing.html#deprecate-loc-reindex-listlike\n"
     ]
    }
   ],
   "source": []
  },
  {
   "cell_type": "code",
   "execution_count": 264,
   "metadata": {},
   "outputs": [],
   "source": [
    "input_dataset_x = pre_process_df.drop(['SalePrice'], axis=1)\n",
    "input_dataset_y = pre_process_df['SalePrice']"
   ]
  },
  {
   "cell_type": "code",
   "execution_count": 415,
   "metadata": {},
   "outputs": [],
   "source": [
    "X_train, X_test, y_train, y_test = train_test_split(input_dataset_x, input_dataset_y, random_state=31)"
   ]
  },
  {
   "cell_type": "code",
   "execution_count": null,
   "metadata": {},
   "outputs": [],
   "source": []
  },
  {
   "cell_type": "code",
   "execution_count": 417,
   "metadata": {},
   "outputs": [],
   "source": [
    "train_base = pd.read_csv(\"data/train.csv\")\n",
    "test_base = pd.read_csv(\"data/test.csv\")\n",
    "test_base['SalePrice'] = -1.0\n",
    "global_set = pd.concat([train_base,test_base])\n",
    "\n",
    "\n",
    "global_cols = set(global_set.columns.tolist())\n",
    "train_cols = set(train_base.columns.tolist())\n",
    "test_cols = set(test_base.columns.tolist())"
   ]
  },
  {
   "cell_type": "markdown",
   "metadata": {},
   "source": [
    "### Handling skewed features\n",
    "Citation: https://www.geeksforgeeks.org/python-pandas-dataframe-skew/"
   ]
  },
  {
   "cell_type": "code",
   "execution_count": 478,
   "metadata": {},
   "outputs": [],
   "source": [
    "numerical_columns_except_sales = set(global_set._get_numeric_data().columns.tolist())\n",
    "# numerical_columns_except_sales = numerical_columns_except_sales - set(['SalePrice'])\n",
    "\n",
    "numerical_columns_except_sales = list(numerical_columns_except_sales)\n",
    "\n",
    "skewed_params = global_set[numerical_columns_except_sales].apply(lambda x: skew(x.dropna())) \n",
    "skewed_params = skewed_params[skewed_params > 0.80]\n",
    "skewed_params = skewed_params.index\n",
    "skewed_params = list(skewed_params)"
   ]
  },
  {
   "cell_type": "code",
   "execution_count": 479,
   "metadata": {},
   "outputs": [
    {
     "data": {
      "text/plain": [
       "['GrLivArea',\n",
       " 'BsmtUnfSF',\n",
       " 'EnclosedPorch',\n",
       " 'OpenPorchSF',\n",
       " 'KitchenAbvGr',\n",
       " 'PoolArea',\n",
       " '2ndFlrSF',\n",
       " 'LotArea',\n",
       " 'BsmtHalfBath',\n",
       " 'LowQualFinSF',\n",
       " 'ScreenPorch',\n",
       " 'MSSubClass',\n",
       " 'TotalBsmtSF',\n",
       " '1stFlrSF',\n",
       " 'BsmtFinSF2',\n",
       " 'MasVnrArea',\n",
       " 'SalePrice',\n",
       " 'MiscVal',\n",
       " '3SsnPorch',\n",
       " 'BsmtFinSF1',\n",
       " 'LotFrontage',\n",
       " 'WoodDeckSF']"
      ]
     },
     "execution_count": 479,
     "metadata": {},
     "output_type": "execute_result"
    }
   ],
   "source": [
    "skewed_params"
   ]
  },
  {
   "cell_type": "markdown",
   "metadata": {},
   "source": [
    "### Ignoring common null columns containing in both train and test data-set\n",
    "In the end, checking whether both the sets are same"
   ]
  },
  {
   "cell_type": "code",
   "execution_count": 480,
   "metadata": {},
   "outputs": [],
   "source": [
    "global_null_columns = set(global_set.columns[global_set.isnull().sum() > 0])\n",
    "train_non_null_columns = train_cols - global_null_columns\n",
    "test_non_null_columns = test_cols - global_null_columns\n",
    "\n",
    "global_non_null_cols = global_set.columns[pre_process_df.isnull().sum() == 0]\n",
    "global_non_null_cols = global_non_null_cols.tolist()"
   ]
  },
  {
   "cell_type": "code",
   "execution_count": 481,
   "metadata": {},
   "outputs": [
    {
     "name": "stdout",
     "output_type": "stream",
     "text": [
      "True\n"
     ]
    }
   ],
   "source": [
    "print(str(train_non_null_columns == test_non_null_columns))"
   ]
  },
  {
   "cell_type": "markdown",
   "metadata": {},
   "source": [
    "### Pre-processing train-test data"
   ]
  },
  {
   "cell_type": "code",
   "execution_count": 482,
   "metadata": {},
   "outputs": [],
   "source": [
    "train_pre_process = train_base.copy(deep=True)\n",
    "test_pre_process = test_set.copy(deep=True)"
   ]
  },
  {
   "cell_type": "code",
   "execution_count": 483,
   "metadata": {},
   "outputs": [
    {
     "name": "stderr",
     "output_type": "stream",
     "text": [
      "C:\\Users\\Paras\\Anaconda3\\lib\\site-packages\\ipykernel_launcher.py:1: RuntimeWarning: invalid value encountered in log1p\n",
      "  \"\"\"Entry point for launching an IPython kernel.\n",
      "C:\\Users\\Paras\\Anaconda3\\lib\\site-packages\\ipykernel_launcher.py:2: RuntimeWarning: divide by zero encountered in log1p\n",
      "  \n",
      "C:\\Users\\Paras\\Anaconda3\\lib\\site-packages\\ipykernel_launcher.py:2: RuntimeWarning: invalid value encountered in log1p\n",
      "  \n"
     ]
    }
   ],
   "source": [
    "train_pre_process[skewed_params] = np.log1p(train_pre_process[skewed_params])\n",
    "test_pre_process[skewed_params] = np.log1p(test_pre_process[skewed_params])"
   ]
  },
  {
   "cell_type": "markdown",
   "metadata": {},
   "source": [
    "### Encoding categorical columns in training set"
   ]
  },
  {
   "cell_type": "code",
   "execution_count": 484,
   "metadata": {},
   "outputs": [
    {
     "name": "stdout",
     "output_type": "stream",
     "text": [
      "Done: 0, total: LandContour, processing: 20\n",
      "Done: 1, total: ExterQual, processing: 20\n",
      "Done: 2, total: LandSlope, processing: 20\n",
      "Done: 3, total: LotShape, processing: 20\n",
      "Done: 4, total: Heating, processing: 20\n",
      "Done: 5, total: Condition1, processing: 20\n",
      "Done: 6, total: BldgType, processing: 20\n",
      "Done: 7, total: Condition2, processing: 20\n",
      "Done: 8, total: Street, processing: 20\n",
      "Done: 9, total: HouseStyle, processing: 20\n",
      "Done: 10, total: CentralAir, processing: 20\n",
      "Done: 11, total: RoofStyle, processing: 20\n",
      "Done: 12, total: HeatingQC, processing: 20\n",
      "Done: 13, total: ExterCond, processing: 20\n",
      "Done: 14, total: LotConfig, processing: 20\n",
      "Done: 15, total: RoofMatl, processing: 20\n",
      "Done: 16, total: Foundation, processing: 20\n",
      "Done: 17, total: Neighborhood, processing: 20\n",
      "Done: 18, total: SaleCondition, processing: 20\n",
      "Done: 19, total: PavedDrive, processing: 20\n"
     ]
    }
   ],
   "source": [
    "train_pre_process = train_pre_process[train_non_null_columns]\n",
    "numeric_cols = train_pre_process._get_numeric_data().columns\n",
    "categorical_cols = list(set(train_pre_process.columns) - set(numeric_cols))\n",
    "\n",
    "total_cat_cols = len(categorical_cols)\n",
    "done = 0\n",
    "for c in categorical_cols:\n",
    "    print(\"Done: {0}, total: {2}, processing: {1}\".format(str(done), str(total_cat_cols), str(c)))\n",
    "    one_hot_encoding = pd.get_dummies(train_pre_process[c], prefix=c)\n",
    "    train_pre_process = train_pre_process.drop(c, axis=1)\n",
    "    train_pre_process = train_pre_process.join(one_hot_encoding)\n",
    "    done += 1"
   ]
  },
  {
   "cell_type": "markdown",
   "metadata": {},
   "source": [
    "### Encoding categorical columns in test set"
   ]
  },
  {
   "cell_type": "code",
   "execution_count": 485,
   "metadata": {},
   "outputs": [
    {
     "name": "stdout",
     "output_type": "stream",
     "text": [
      "Done: 0, total: LandContour, processing: 20\n",
      "Done: 1, total: ExterQual, processing: 20\n",
      "Done: 2, total: LandSlope, processing: 20\n",
      "Done: 3, total: LotShape, processing: 20\n",
      "Done: 4, total: Heating, processing: 20\n",
      "Done: 5, total: Condition1, processing: 20\n",
      "Done: 6, total: BldgType, processing: 20\n",
      "Done: 7, total: Condition2, processing: 20\n",
      "Done: 8, total: Street, processing: 20\n",
      "Done: 9, total: HouseStyle, processing: 20\n",
      "Done: 10, total: CentralAir, processing: 20\n",
      "Done: 11, total: RoofStyle, processing: 20\n",
      "Done: 12, total: HeatingQC, processing: 20\n",
      "Done: 13, total: ExterCond, processing: 20\n",
      "Done: 14, total: LotConfig, processing: 20\n",
      "Done: 15, total: RoofMatl, processing: 20\n",
      "Done: 16, total: Foundation, processing: 20\n",
      "Done: 17, total: Neighborhood, processing: 20\n",
      "Done: 18, total: SaleCondition, processing: 20\n",
      "Done: 19, total: PavedDrive, processing: 20\n"
     ]
    }
   ],
   "source": [
    "# train_cols = set(train_pre_process.columns.tolist())\n",
    "test_pre_process = test_pre_process[test_non_null_columns]\n",
    "numeric_cols = test_pre_process._get_numeric_data().columns\n",
    "categorical_cols = list(set(test_pre_process.columns) - set(numeric_cols))\n",
    "\n",
    "total_cat_cols = len(categorical_cols)\n",
    "done = 0\n",
    "for c in categorical_cols:\n",
    "    print(\"Done: {0}, total: {2}, processing: {1}\".format(str(done), str(total_cat_cols), str(c)))\n",
    "    one_hot_encoding = pd.get_dummies(test_pre_process[c], prefix=c)\n",
    "    test_pre_process = test_pre_process.drop(c, axis=1)\n",
    "    test_pre_process = test_pre_process.join(one_hot_encoding)\n",
    "    done += 1\n"
   ]
  },
  {
   "cell_type": "code",
   "execution_count": 486,
   "metadata": {},
   "outputs": [],
   "source": [
    "train_categorical_cols = set(train_pre_process.columns.tolist())\n",
    "test_categorical_cols = set(test_pre_process.columns.tolist())\n",
    "all_categorical_cols = train_categorical_cols.union(test_categorical_cols)\n",
    "common_cols = all_categorical_cols - (train_categorical_cols - test_categorical_cols) - (test_categorical_cols - train_categorical_cols)"
   ]
  },
  {
   "cell_type": "code",
   "execution_count": 487,
   "metadata": {},
   "outputs": [],
   "source": [
    "common_cols = list(common_cols)\n",
    "train_post_process = train_pre_process[common_cols]\n",
    "test_post_process = test_pre_process[common_cols]"
   ]
  },
  {
   "cell_type": "code",
   "execution_count": null,
   "metadata": {},
   "outputs": [],
   "source": []
  },
  {
   "cell_type": "code",
   "execution_count": 488,
   "metadata": {},
   "outputs": [],
   "source": [
    "X_train, X_test, y_train, y_test = train_test_split(train_post_process.drop(['SalePrice'], axis=1), train_post_process['SalePrice'], random_state=31)"
   ]
  },
  {
   "cell_type": "code",
   "execution_count": 489,
   "metadata": {},
   "outputs": [],
   "source": [
    "regressor = LinearRegression()\n",
    "regressor = regressor.fit(X_train, y_train)"
   ]
  },
  {
   "cell_type": "code",
   "execution_count": 490,
   "metadata": {},
   "outputs": [],
   "source": [
    "y_pred = regressor.predict(X_test)"
   ]
  },
  {
   "cell_type": "code",
   "execution_count": 491,
   "metadata": {},
   "outputs": [
    {
     "name": "stdout",
     "output_type": "stream",
     "text": [
      "Mean Absolute Error: 0.1010509265248996\n",
      "Mean Squared Error: 0.023095278004070137\n",
      "Root Mean Squared Error: 0.15197130651563845\n"
     ]
    }
   ],
   "source": [
    "print('Mean Absolute Error:', mean_absolute_error(y_test, y_pred))  \n",
    "print('Mean Squared Error:', mean_squared_error(y_test, y_pred))  \n",
    "print('Root Mean Squared Error:', np.sqrt(mean_squared_error(y_test, y_pred)))"
   ]
  },
  {
   "cell_type": "code",
   "execution_count": 492,
   "metadata": {},
   "outputs": [],
   "source": [
    "test_output = regressor.predict(test_post_process.drop(['SalePrice'], axis=1))"
   ]
  },
  {
   "cell_type": "code",
   "execution_count": 499,
   "metadata": {},
   "outputs": [],
   "source": [
    "test_post_process['SalePrice'] = np.expm1(test_output)"
   ]
  },
  {
   "cell_type": "code",
   "execution_count": 500,
   "metadata": {},
   "outputs": [],
   "source": [
    "test_post_process[[\"Id\", \"SalePrice\"]].to_csv(\"submissiom.csv\", sep=',', index=False)"
   ]
  },
  {
   "cell_type": "markdown",
   "metadata": {},
   "source": [
    "## Task 7"
   ]
  },
  {
   "cell_type": "code",
   "execution_count": null,
   "metadata": {},
   "outputs": [],
   "source": []
  },
  {
   "cell_type": "code",
   "execution_count": null,
   "metadata": {},
   "outputs": [],
   "source": []
  },
  {
   "cell_type": "code",
   "execution_count": null,
   "metadata": {},
   "outputs": [],
   "source": []
  },
  {
   "cell_type": "code",
   "execution_count": null,
   "metadata": {},
   "outputs": [],
   "source": []
  }
 ],
 "metadata": {
  "kernelspec": {
   "display_name": "Python 3",
   "language": "python",
   "name": "python3"
  },
  "language_info": {
   "codemirror_mode": {
    "name": "ipython",
    "version": 3
   },
   "file_extension": ".py",
   "mimetype": "text/x-python",
   "name": "python",
   "nbconvert_exporter": "python",
   "pygments_lexer": "ipython3",
   "version": "3.7.3"
  }
 },
 "nbformat": 4,
 "nbformat_minor": 4
}
