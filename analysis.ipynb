{
 "cells": [
  {
   "cell_type": "code",
   "execution_count": null,
   "metadata": {},
   "outputs": [],
   "source": [
    "import pandas as pd\n",
    "import random\n",
    "import numpy as np\n",
    "import math\n",
    "import sys\n",
    "import matplotlib.pyplot as plt\n",
    "import seaborn as sns\n",
    "import graphviz\n",
    "import xgboost as xgb\n",
    "\n",
    "from scipy.special import expit as sigmoid\n",
    "from pandas.plotting import autocorrelation_plot\n",
    "from sklearn.model_selection import train_test_split\n",
    "from sklearn.linear_model import LogisticRegression\n",
    "from sklearn.ensemble import RandomForestClassifier\n",
    "from sklearn import tree\n",
    "from sklearn.metrics import precision_recall_fscore_support\n",
    "from sklearn import preprocessing\n",
    "from sklearn.metrics import confusion_matrix\n",
    "from sklearn.metrics import roc_auc_score\n",
    "from sklearn.utils import resample\n",
    "from imblearn.over_sampling import SMOTE, ADASYN\n",
    "from imblearn.under_sampling import ClusterCentroids\n",
    "from imblearn.under_sampling import RandomUnderSampler"
   ]
  },
  {
   "cell_type": "code",
   "execution_count": null,
   "metadata": {},
   "outputs": [],
   "source": [
    "train_set = pd.read_csv(\"data/train.csv\")\n",
    "test_set = pd.read_csv(\"data/test.csv\")"
   ]
  },
  {
   "cell_type": "code",
   "execution_count": null,
   "metadata": {},
   "outputs": [],
   "source": [
    "test_set['SalePrice'] = -1.0\n",
    "global_set = pd.concat([train_set, test_set])"
   ]
  },
  {
   "cell_type": "markdown",
   "metadata": {},
   "source": [
    "# Task 1:\n",
    "Select a set of 10-15 of the most interesting variables.  Do a pairwise Pearson correlation analysis on all pairs of these variables. Show the result with heat map and find out most positive and negative correlations. "
   ]
  },
  {
   "cell_type": "code",
   "execution_count": null,
   "metadata": {},
   "outputs": [],
   "source": [
    "# suspects = [\"SalePrice\", \"RH\", \"RL\", \"RP\", \"RM\", \"LotFrontage\", \"LotArea\"]\n",
    "suspects = [\"SalePrice\", \"LotFrontage\", \"LotArea\", \"PoolArea\", \"YrSold\", \"OverallQual\", \"TotalBsmtSF\", \"1stFlrSF\", \"GrLivArea\", \"GarageCars\",\n",
    "            \"GarageArea\", \"YearBuilt\", \"BedroomAbvGr\", \"KitchenAbvGr\", \"MasVnrArea\", \"YearRemodAdd\"]\n",
    "train_set[suspects].head()"
   ]
  },
  {
   "cell_type": "code",
   "execution_count": null,
   "metadata": {},
   "outputs": [],
   "source": [
    "sns.heatmap(train_set[suspects].corr(), cmap=\"Greens\")"
   ]
  },
  {
   "cell_type": "code",
   "execution_count": null,
   "metadata": {},
   "outputs": [],
   "source": [
    "train_set[suspects].corr()"
   ]
  },
  {
   "cell_type": "markdown",
   "metadata": {},
   "source": [
    "## Conclusion (11 features):\n",
    "1.  Correlated features with SalePrice from highest to lowest order SalesPrivce vs All... </br>\n",
    "    a. Overall quality of material (OverallQual, 0.79) </br>\n",
    "    b. Above grade living area in square feet (GrLivArea, 0.70) </br>\n",
    "    c. Size of garage in car capacity (GarageCars, 0.64) </br>\n",
    "    d. Size of garage in square feet (GarageArea, 0.62) </br>\n",
    "    e. Total basement area in square feet (TotalBsmtSF, 0.61)</br>\n",
    "    f. First Floor area in square feet (1stFlrSF, 0.60) </br>\n",
    "2. Overall quality of the house is highly correlated to the year it was built, the newer the house higher its quality (0.57)\n",
    "3. Overall quality of the house is highly correlated to the year it was remodeled, most recent modeled house has higher quality (0.55)\n",
    "4. Overall quality of the house is highly correlated to the garage cars capacity, the more cars a house can manage higher its quality (0.60)\n",
    "5. Lot frontage (linear feet of street connected to house) is correlated with Lot Area (lot area in sq. feet around the house) (0.42)"
   ]
  },
  {
   "cell_type": "markdown",
   "metadata": {},
   "source": [
    "# Task 2\n",
    "Produce five other informative plots revealing aspects of this data. For each plot, write a paragraph in your notebook describing what interesting properties your visualization reveals. These must include: </br>\n",
    "1. at least one line chart </br>\n",
    "2. at least one scatter plot or data map </br>\n",
    "3. at least one histogram or bar chart </br>\n"
   ]
  },
  {
   "cell_type": "code",
   "execution_count": null,
   "metadata": {},
   "outputs": [],
   "source": [
    "figures, axes = plt.subplots(1, 2, figsize=(12,5))\n",
    "\n",
    "# TotRmsAbvGrd\n",
    "totalRoomsYearAgg = train_set.groupby([\"YearBuilt\"])[\"TotRmsAbvGrd\"].agg([\"mean\"]).reset_index()\n",
    "totalRoomsYearAgg = totalRoomsYearAgg.rename(columns={\"mean\": \"Mean_No_Rooms\"})\n",
    "sns.lineplot(x=\"YearBuilt\", y=\"Mean_No_Rooms\", data=totalRoomsYearAgg, markers=True, ax=axes[0])\n",
    "axes[0].set_title(\"Rooms vs. Year House Built\")\n",
    "# GarageCars\n",
    "\n",
    "garageCarsYearAgg = train_set.groupby([\"YearBuilt\"])[\"GarageCars\"].agg([\"mean\"]).reset_index()\n",
    "garageCarsYearAgg = garageCarsYearAgg.rename(columns={\"mean\": \"Mean_Garage_Cars\"})\n",
    "sns.lineplot(x=\"YearBuilt\", y=\"Mean_Garage_Cars\", data=garageCarsYearAgg, markers=True, ax=axes[1])\n",
    "axes[1].set_title(\"Garage Cars Capacity vs. Year House Built\")\n",
    "\n",
    "plt.tight_layout()"
   ]
  },
  {
   "cell_type": "markdown",
   "metadata": {},
   "source": [
    "### Conclusion (Task 2):\n",
    "Changes in Mean number of rooms as the houses are built through a period of time\n",
    "1. Steady increase from 6 room to 11 rooms from 1880 to 1900\n",
    "2. Significant drop in mean no. of rooms from 1900s till 1940s (possible due to world war atmosphere people were hesitating to build full-fledge houses to avoid rebuilding)\n",
    "3. A gradual increase in mean no. of rooms from 1950s to late 2000s (possible due to rise in nuclear family trends as time proceeded, due to reduction in few people per house)"
   ]
  },
  {
   "cell_type": "code",
   "execution_count": null,
   "metadata": {},
   "outputs": [],
   "source": [
    "figures, axes = plt.subplots(1, 4, figsize=(12,4))\n",
    "residency_types = ['FV', 'RH','RL','RM']\n",
    "labels = [\"Floating Village\", \"Residential High Density\", \"Residential Low Density\", \"Residential Medium Density\"]\n",
    "for index, residency_type in enumerate(residency_types):\n",
    "    residency = train_set[train_set.MSZoning == residency_type]\n",
    "    sns.regplot(x='LotArea', y='SalePrice', data=residency, ax=axes[index])\n",
    "    axes[index].set_title(labels[index])\n",
    "\n",
    "plt.tight_layout()"
   ]
  },
  {
   "cell_type": "markdown",
   "metadata": {},
   "source": [
    "### Conclusion (Task 2):\n",
    "1. In Floating Village, Low Density, Medium Density Residential zones a strong correlation in SalePrice at Lot-Area is observed\n",
    "2. In Highly Dense Residential, there's no correlation between SalePrice vs LotArea (may be there are other factors that influence SalePrice in High Residential Zones other than Lot-Area)"
   ]
  },
  {
   "cell_type": "code",
   "execution_count": null,
   "metadata": {},
   "outputs": [],
   "source": [
    "figures, axes = plt.subplots(1, 4, figsize=(12,4))\n",
    "residency_types = ['FV', 'RH', 'RL', 'RM']\n",
    "labels = [\"Floating Village\", \"Residential High Density\", \"Residential Low Density\", \"Residential Medium Density\"]\n",
    "colors = ['red', 'darkgreen', 'blue', 'coral']\n",
    "for index, residency_type in enumerate(residency_types):\n",
    "    residency_data = train_set[train_set.MSZoning == residency_type]\n",
    "    sns.distplot(residency_data.BedroomAbvGr, ax=axes[index], color=colors[index])\n",
    "    axes[index].set_title(labels[index])\n",
    "plt.tight_layout()"
   ]
  },
  {
   "cell_type": "markdown",
   "metadata": {},
   "source": [
    "### Conclusion (Task 2):\n",
    "1. Average number of bedrooms range in 1 to 5 in Residential High Density\n",
    "2. Maximum residents in Residential Low Density live within houses of 3 bedrooms\n"
   ]
  },
  {
   "cell_type": "code",
   "execution_count": null,
   "metadata": {},
   "outputs": [],
   "source": [
    "figures, axes = plt.subplots(1, 4, figsize=(12,4))\n",
    "residency_types = ['FV', 'RH', 'RL', 'RM']\n",
    "labels = [\"Floating Village\", \"Residential High Density\", \"Residential Low Density\", \"Residential Medium Density\"]\n",
    "colors = ['red', 'darkgreen', 'blue', 'coral']\n",
    "for index, residency_type in enumerate(residency_types):\n",
    "    residency_data = train_set[train_set.MSZoning == residency_type]\n",
    "    sns.distplot(residency_data['KitchenAbvGr'], ax=axes[index], color=colors[index])\n",
    "    axes[index].set_title(labels[index])\n",
    "plt.tight_layout()"
   ]
  },
  {
   "cell_type": "code",
   "execution_count": null,
   "metadata": {},
   "outputs": [],
   "source": []
  },
  {
   "cell_type": "markdown",
   "metadata": {},
   "source": [
    "## Task 3"
   ]
  },
  {
   "cell_type": "code",
   "execution_count": null,
   "metadata": {},
   "outputs": [],
   "source": [
    "train_set.columns"
   ]
  },
  {
   "cell_type": "code",
   "execution_count": null,
   "metadata": {},
   "outputs": [],
   "source": [
    "a = train_set.groupby(\"ExterCond\")[\"SalePrice\"].agg(\"mean\").reset_index()"
   ]
  },
  {
   "cell_type": "code",
   "execution_count": null,
   "metadata": {},
   "outputs": [],
   "source": [
    "a.sort_values(\"SalePrice\", ascending=False)[\"ExterCond\"]"
   ]
  },
  {
   "cell_type": "code",
   "execution_count": null,
   "metadata": {},
   "outputs": [],
   "source": [
    "train_set[[\"OverallQual\",\"GrLivArea\",\"GarageCars\",\"GarageArea\",\"TotalBsmtSF\",\"1stFlrSF\"]].isnull().sum()"
   ]
  },
  {
   "cell_type": "code",
   "execution_count": 78,
   "metadata": {},
   "outputs": [
    {
     "data": {
      "text/html": [
       "<div>\n",
       "<style scoped>\n",
       "    .dataframe tbody tr th:only-of-type {\n",
       "        vertical-align: middle;\n",
       "    }\n",
       "\n",
       "    .dataframe tbody tr th {\n",
       "        vertical-align: top;\n",
       "    }\n",
       "\n",
       "    .dataframe thead th {\n",
       "        text-align: right;\n",
       "    }\n",
       "</style>\n",
       "<table border=\"1\" class=\"dataframe\">\n",
       "  <thead>\n",
       "    <tr style=\"text-align: right;\">\n",
       "      <th></th>\n",
       "      <th>OverallQual</th>\n",
       "      <th>GrLivArea</th>\n",
       "      <th>GarageCars</th>\n",
       "      <th>GarageArea</th>\n",
       "      <th>TotalBsmtSF</th>\n",
       "      <th>1stFlrSF</th>\n",
       "      <th>YearBuilt</th>\n",
       "      <th>YearRemodAdd</th>\n",
       "      <th>PoolArea</th>\n",
       "    </tr>\n",
       "  </thead>\n",
       "  <tbody>\n",
       "    <tr>\n",
       "      <th>count</th>\n",
       "      <td>2919.000000</td>\n",
       "      <td>2919.000000</td>\n",
       "      <td>2918.000000</td>\n",
       "      <td>2918.000000</td>\n",
       "      <td>2918.000000</td>\n",
       "      <td>2919.000000</td>\n",
       "      <td>2919.000000</td>\n",
       "      <td>2919.000000</td>\n",
       "      <td>2919.000000</td>\n",
       "    </tr>\n",
       "    <tr>\n",
       "      <th>mean</th>\n",
       "      <td>6.089072</td>\n",
       "      <td>1500.759849</td>\n",
       "      <td>1.766621</td>\n",
       "      <td>472.874572</td>\n",
       "      <td>1051.777587</td>\n",
       "      <td>1159.581706</td>\n",
       "      <td>1971.312778</td>\n",
       "      <td>1984.264474</td>\n",
       "      <td>2.251799</td>\n",
       "    </tr>\n",
       "    <tr>\n",
       "      <th>std</th>\n",
       "      <td>1.409947</td>\n",
       "      <td>506.051045</td>\n",
       "      <td>0.761624</td>\n",
       "      <td>215.394815</td>\n",
       "      <td>440.766258</td>\n",
       "      <td>392.362079</td>\n",
       "      <td>30.291442</td>\n",
       "      <td>20.894344</td>\n",
       "      <td>35.663946</td>\n",
       "    </tr>\n",
       "    <tr>\n",
       "      <th>min</th>\n",
       "      <td>1.000000</td>\n",
       "      <td>334.000000</td>\n",
       "      <td>0.000000</td>\n",
       "      <td>0.000000</td>\n",
       "      <td>0.000000</td>\n",
       "      <td>334.000000</td>\n",
       "      <td>1872.000000</td>\n",
       "      <td>1950.000000</td>\n",
       "      <td>0.000000</td>\n",
       "    </tr>\n",
       "    <tr>\n",
       "      <th>25%</th>\n",
       "      <td>5.000000</td>\n",
       "      <td>1126.000000</td>\n",
       "      <td>1.000000</td>\n",
       "      <td>320.000000</td>\n",
       "      <td>793.000000</td>\n",
       "      <td>876.000000</td>\n",
       "      <td>1953.500000</td>\n",
       "      <td>1965.000000</td>\n",
       "      <td>0.000000</td>\n",
       "    </tr>\n",
       "    <tr>\n",
       "      <th>50%</th>\n",
       "      <td>6.000000</td>\n",
       "      <td>1444.000000</td>\n",
       "      <td>2.000000</td>\n",
       "      <td>480.000000</td>\n",
       "      <td>989.500000</td>\n",
       "      <td>1082.000000</td>\n",
       "      <td>1973.000000</td>\n",
       "      <td>1993.000000</td>\n",
       "      <td>0.000000</td>\n",
       "    </tr>\n",
       "    <tr>\n",
       "      <th>75%</th>\n",
       "      <td>7.000000</td>\n",
       "      <td>1743.500000</td>\n",
       "      <td>2.000000</td>\n",
       "      <td>576.000000</td>\n",
       "      <td>1302.000000</td>\n",
       "      <td>1387.500000</td>\n",
       "      <td>2001.000000</td>\n",
       "      <td>2004.000000</td>\n",
       "      <td>0.000000</td>\n",
       "    </tr>\n",
       "    <tr>\n",
       "      <th>max</th>\n",
       "      <td>10.000000</td>\n",
       "      <td>5642.000000</td>\n",
       "      <td>5.000000</td>\n",
       "      <td>1488.000000</td>\n",
       "      <td>6110.000000</td>\n",
       "      <td>5095.000000</td>\n",
       "      <td>2010.000000</td>\n",
       "      <td>2010.000000</td>\n",
       "      <td>800.000000</td>\n",
       "    </tr>\n",
       "  </tbody>\n",
       "</table>\n",
       "</div>"
      ],
      "text/plain": [
       "       OverallQual    GrLivArea   GarageCars   GarageArea  TotalBsmtSF  \\\n",
       "count  2919.000000  2919.000000  2918.000000  2918.000000  2918.000000   \n",
       "mean      6.089072  1500.759849     1.766621   472.874572  1051.777587   \n",
       "std       1.409947   506.051045     0.761624   215.394815   440.766258   \n",
       "min       1.000000   334.000000     0.000000     0.000000     0.000000   \n",
       "25%       5.000000  1126.000000     1.000000   320.000000   793.000000   \n",
       "50%       6.000000  1444.000000     2.000000   480.000000   989.500000   \n",
       "75%       7.000000  1743.500000     2.000000   576.000000  1302.000000   \n",
       "max      10.000000  5642.000000     5.000000  1488.000000  6110.000000   \n",
       "\n",
       "          1stFlrSF    YearBuilt  YearRemodAdd     PoolArea  \n",
       "count  2919.000000  2919.000000   2919.000000  2919.000000  \n",
       "mean   1159.581706  1971.312778   1984.264474     2.251799  \n",
       "std     392.362079    30.291442     20.894344    35.663946  \n",
       "min     334.000000  1872.000000   1950.000000     0.000000  \n",
       "25%     876.000000  1953.500000   1965.000000     0.000000  \n",
       "50%    1082.000000  1973.000000   1993.000000     0.000000  \n",
       "75%    1387.500000  2001.000000   2004.000000     0.000000  \n",
       "max    5095.000000  2010.000000   2010.000000   800.000000  "
      ]
     },
     "execution_count": 78,
     "metadata": {},
     "output_type": "execute_result"
    }
   ],
   "source": [
    "global_set[[\"OverallQual\",\"GrLivArea\",\"GarageCars\",\"GarageArea\",\"TotalBsmtSF\",\"1stFlrSF\", \"YearBuilt\", \"YearRemodAdd\", \"PoolArea\"]].describe()"
   ]
  },
  {
   "cell_type": "code",
   "execution_count": 80,
   "metadata": {},
   "outputs": [],
   "source": [
    "def max_min_scaler(min_val, max_val, val):\n",
    "    return (val - min_val)/(max_val - min_val)"
   ]
  },
  {
   "cell_type": "code",
   "execution_count": 86,
   "metadata": {},
   "outputs": [],
   "source": [
    "max_int = sys.maxsize - 1 # Maximum possible integer value in python\n",
    "min_int = (-max_int - 1) + 2 # Minimum possible integer value in python\n",
    "def desirability_score(row):\n",
    "    score = 0.0\n",
    "    correlated_cols_weights = {\"OverallQual\": 0.79, \"GrLivArea\": 0.70, \"GarageCars\": 0.64 , \"GarageArea\": 0.62, \"TotalBsmtSF\": 0.61, \"1stFlrSF\": 0.60}\n",
    "    correlated_cols_mins = {\"OverallQual\": 1.0, \"GrLivArea\": 334.0, \"GarageCars\": 0.0, \"GarageArea\": 0.0, \"TotalBsmtSF\": 0.0, \"1stFlrSF\": 334.0}\n",
    "    correlated_cols_max = {\"OverallQual\": 10.0, \"GrLivArea\": 5642.0, \"GarageCars\": 5.0, \"GarageArea\": 1488.0, \"TotalBsmtSF\": 6110.0, \"1stFlrSF\": 5095.0}\n",
    "    for c in correlated_cols_weights:\n",
    "        score += max_min_scaler(correlated_cols_mins[c], correlated_cols_max[c], row[c])\n",
    "    \n",
    "#     print(str(score))\n",
    "    \n",
    "    # Higher weight if a 2 Story or newer dwelling then assign higher score\n",
    "    if row[\"MSSubClass\"] in [20, 60, 0, 75, 160]:\n",
    "        score += 1.0\n",
    "    else:\n",
    "        score += 0.0\n",
    "    \n",
    "    # Higher weight if the street closed to house is Paved or made from Gravel\n",
    "    if row[\"Street\"] == \"Pave\":\n",
    "        score += 1.0\n",
    "    else:\n",
    "        score += 0.0\n",
    "        \n",
    "    # Higher weight if the exterior material quality is Excellent\n",
    "    if row[\"ExterCond\"] == \"Ex\":\n",
    "        score += 1.0\n",
    "    else:\n",
    "        score += 0.0\n",
    "                \n",
    "    neighborhood = ['MeadowV', 'IDOTRR', 'BrDale', 'BrkSide', 'Edwards', 'OldTown', 'Sawyer', 'Blueste', 'SWISU', 'NPkVill', 'NAmes', 'Mitchel', 'SawyerW', 'NWAmes', 'Gilbert', 'Blmngtn', 'CollgCr', 'Crawfor', 'ClearCr', 'Somerst', 'Veenker', 'Timber', 'StoneBr', 'NridgHt', 'NoRidge']\n",
    "    \n",
    "    \n",
    "    score += neighborhood.index(row[\"Neighborhood\"])/10.0\n",
    "\n",
    "    year_built_min, year_built_max = 1872.0, 2010.0\n",
    "    year_remod_min, year_remod_max = 1950.0, 2010.0\n",
    "    pool_area_min, pool_area_max = 0.0, 800.0\n",
    "    \n",
    "    score += max_min_scaler(year_built_min, year_built_max, row[\"YearBuilt\"])\n",
    "    score += max_min_scaler(year_remod_min, year_remod_max, row[\"YearRemodAdd\"])\n",
    "    score += max_min_scaler(pool_area_min, pool_area_max, row[\"PoolArea\"])\n",
    "    \n",
    "#   In total we added 6 pearson-corrleation based numerical scores, type of dwelling score, type of street score, material quality of score, type of neighborhood score,\n",
    "#   , year-built, year-remodeled, pool area based score\n",
    "#   In total: 6 + 1 + 1 + 1 + 1 + 1 + 1 + 1 -> 13\n",
    "#    So, in conclusion we added 13 times sigmoid scaled values\n",
    "    score /= 13.0\n",
    "    \n",
    "    # Now score will be in a range from 0.0 to 1.0,\n",
    "    # Return a desirability score in a range from 1 to 10.0\n",
    "        \n",
    "    return score * 10.0\n",
    "        \n",
    "    "
   ]
  },
  {
   "cell_type": "code",
   "execution_count": 87,
   "metadata": {},
   "outputs": [],
   "source": [
    "train_set[\"desirability\"] = train_set.apply(desirability_score, axis=1)"
   ]
  },
  {
   "cell_type": "code",
   "execution_count": 88,
   "metadata": {},
   "outputs": [
    {
     "data": {
      "text/plain": [
       "0    5.674250\n",
       "1    5.406112\n",
       "2    5.710711\n",
       "3    4.276171\n",
       "4    6.776449\n",
       "Name: desirability, dtype: float64"
      ]
     },
     "execution_count": 88,
     "metadata": {},
     "output_type": "execute_result"
    }
   ],
   "source": [
    "train_set[\"desirability\"].head()"
   ]
  },
  {
   "cell_type": "code",
   "execution_count": null,
   "metadata": {},
   "outputs": [],
   "source": [
    "train_set[\"desirability\"]"
   ]
  },
  {
   "cell_type": "code",
   "execution_count": null,
   "metadata": {},
   "outputs": [],
   "source": []
  }
 ],
 "metadata": {
  "kernelspec": {
   "display_name": "Python 3",
   "language": "python",
   "name": "python3"
  },
  "language_info": {
   "codemirror_mode": {
    "name": "ipython",
    "version": 3
   },
   "file_extension": ".py",
   "mimetype": "text/x-python",
   "name": "python",
   "nbconvert_exporter": "python",
   "pygments_lexer": "ipython3",
   "version": "3.7.3"
  }
 },
 "nbformat": 4,
 "nbformat_minor": 4
}
